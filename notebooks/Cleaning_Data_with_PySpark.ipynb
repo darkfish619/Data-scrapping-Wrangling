{
  "nbformat": 4,
  "nbformat_minor": 0,
  "metadata": {
    "colab": {
      "name": "Cleaning Data with PySpark.ipynb",
      "provenance": []
    },
    "kernelspec": {
      "display_name": "Python 3",
      "language": "python",
      "name": "python3"
    },
    "language_info": {
      "codemirror_mode": {
        "name": "ipython",
        "version": 3
      },
      "file_extension": ".py",
      "mimetype": "text/x-python",
      "name": "python",
      "nbconvert_exporter": "python",
      "pygments_lexer": "ipython3",
      "version": "3.7.1"
    }
  },
  "cells": [
    {
      "cell_type": "markdown",
      "metadata": {
        "id": "6Ijg5wUCTQYG"
      },
      "source": [
        "<p align=\"center\">\n",
        "<img src=\"https://github.com/datacamp/python-live-training-template/blob/master/assets/datacamp.svg?raw=True\" alt = \"DataCamp icon\" width=\"50%\">\n",
        "</p>\n",
        "<br><br>\n",
        "\n",
        "## **Cleaning Data with Pyspark**\n",
        "\n",
        "Welcome to this hands-on training where we will investigate cleaning a dataset using Python and Apache Spark! During this training, we will cover:\n",
        "\n",
        "* Efficiently loading data into a Spark DataFrame\n",
        "* Handling errant rows / columns from the dataset, including comments, missing data, combined or misinterpreted columns, etc.\n",
        "* Using Python UDFs to run advanced transformations on data\n",
        "\n",
        "\n",
        "## **The Dataset**\n",
        "\n",
        "The dataset used in this webinar is a set of CSV files named `netflix_titles_raw*.csv`. These contain information related to the movies and television shows available on Netflix. These are the *dirty* versions of the dataset - we will cover the individual problems as we work through the notebook.\n",
        "\n",
        "Given that this is a data cleaning webinar, let's look at our intended result.  The dataset will contain the follwing information:\n",
        "\n",
        "- `show_id`: A unique integer identifier for the show\n",
        "- `type`: The type of content, `Movie` or `TV Show`\n",
        "- `title`: The title of the content\n",
        "- `director`: The director (or directors)\n",
        "- `cast`: The cast\n",
        "- `country`: Country (or countries) where the content is available\n",
        "- `date_added`: Date added to Netflix\n",
        "- `release_year`: Year of content release\n",
        "- `rating`: Content rating\n",
        "- `duration`: The duration\n",
        "- `listed_in`: The genres the content is listed in\n",
        "- `description`: A description of the content\n",
        "\n"
      ]
    },
    {
      "cell_type": "markdown",
      "metadata": {
        "id": "KLi6HZeKbiG4"
      },
      "source": [
        "## **Setting up a PySpark session**\n",
        "\n",
        "Before we can start processing our data, we need to configure a Pyspark session for Google Colab. Note that this is specific for using Spark and Python in Colab and likely is not required for other environments. "
      ]
    },
    {
      "cell_type": "code",
      "metadata": {
        "id": "O86xE8hXbiG5",
        "cellView": "both"
      },
      "source": [
        "# Run this code as is to install Spark in Colab\n",
        "!apt-get install openjdk-8-jdk-headless -qq > /dev/null\n",
        "!wget -q https://downloads.apache.org/spark/spark-2.4.8/spark-2.4.8-bin-hadoop2.7.tgz\n",
        "!tar xf spark-2.4.8-bin-hadoop2.7.tgz\n",
        "!pip install -q findspark"
      ],
      "execution_count": 20,
      "outputs": []
    },
    {
      "cell_type": "code",
      "metadata": {
        "id": "qKvFmTnQbiG9"
      },
      "source": [
        "# Finally, setup our Spark session\n",
        "import os\n",
        "os.environ[\"JAVA_HOME\"] = \"/usr/lib/jvm/java-8-openjdk-amd64\"\n",
        "os.environ[\"SPARK_HOME\"] = \"/content/spark-2.4.8-bin-hadoop2.7\"\n",
        "import findspark\n",
        "findspark.init()\n",
        "from google.colab import files\n",
        "from pyspark.sql import SparkSession, Window\n",
        "from pyspark.sql.functions import isnan, when, count, col, lit, trim, avg, ceil\n",
        "from pyspark.sql.types import StringType\n",
        "import matplotlib.pyplot as plt\n",
        "import pandas as pd\n",
        "import seaborn as sns"
      ],
      "execution_count": 21,
      "outputs": []
    },
    {
      "cell_type": "markdown",
      "metadata": {
        "id": "BMYfcKeDY85K"
      },
      "source": [
        "## **Getting started**\n",
        "\n",
        "Before doing anything else, lets copy our data files locally. We'll be using `wget`, `ls`, `gunzip`, and `head`, which are normally shell commands. In the notebook environment, we can run any given shell command using the precursor `!`. The purpose of our shell commands are as follows:\n",
        "\n",
        "- `wget` - Is an HTTP client that will download our data files and save them locally in our notebook environment.\n",
        "- `ls` - Used to list the files in a directory.\n",
        "- `gunzip` - Our data files are compressed using the `gzip` compression format. `gunzip` allows us to decompress those files.\n",
        "- `head` - Much like the `.head()` command in Pandas, the shell command `head` defaults to printing out the first 10 lines of a file. You can specify more or fewer lines if desired. \n",
        "\n",
        "This is an example of some of these commands being executed in a traditional shell environment:\n",
        "\n",
        "![Shell Commands](https://github.com/datacamp/data-cleaning-with-pyspark-live-training/raw/master/assets/SparkLiveTraining-shellcommands.png)\n",
        "\n",
        "Let's run the follwing cell to pull the *dirty* files locally. We'll be writing the files to the `/tmp` directory in the notebook environment."
      ]
    },
    {
      "cell_type": "code",
      "metadata": {
        "id": "IAfz_jiu0NjN",
        "colab": {
          "base_uri": "https://localhost:8080/"
        },
        "outputId": "492b5c89-d6f4-46ea-85ab-59d7da6297f6"
      },
      "source": [
        "# Copy our dataset locally\n",
        "\n",
        "!wget https://s3.amazonaws.com/drivendata/data/7/public/4910797b-ee55-40a7-8668-10efd5c1b960.csv -O features.csv\n",
        "!wget https://s3.amazonaws.com/drivendata/data/7/public/0bf8bc6e-30d0-4c50-956a-603fc693d966.csv -O labels.csv"
      ],
      "execution_count": 22,
      "outputs": [
        {
          "output_type": "stream",
          "name": "stdout",
          "text": [
            "--2021-11-05 08:21:18--  https://s3.amazonaws.com/drivendata/data/7/public/4910797b-ee55-40a7-8668-10efd5c1b960.csv\n",
            "Resolving s3.amazonaws.com (s3.amazonaws.com)... 52.216.128.205\n",
            "Connecting to s3.amazonaws.com (s3.amazonaws.com)|52.216.128.205|:443... connected.\n",
            "HTTP request sent, awaiting response... 200 OK\n",
            "Length: 20069199 (19M) [text/csv]\n",
            "Saving to: ‘features.csv’\n",
            "\n",
            "features.csv        100%[===================>]  19.14M  34.9MB/s    in 0.5s    \n",
            "\n",
            "2021-11-05 08:21:19 (34.9 MB/s) - ‘features.csv’ saved [20069199/20069199]\n",
            "\n",
            "--2021-11-05 08:21:19--  https://s3.amazonaws.com/drivendata/data/7/public/0bf8bc6e-30d0-4c50-956a-603fc693d966.csv\n",
            "Resolving s3.amazonaws.com (s3.amazonaws.com)... 52.216.128.205\n",
            "Connecting to s3.amazonaws.com (s3.amazonaws.com)|52.216.128.205|:443... connected.\n",
            "HTTP request sent, awaiting response... 200 OK\n",
            "Length: 1148327 (1.1M) [text/csv]\n",
            "Saving to: ‘labels.csv’\n",
            "\n",
            "labels.csv          100%[===================>]   1.09M  5.20MB/s    in 0.2s    \n",
            "\n",
            "2021-11-05 08:21:20 (5.20 MB/s) - ‘labels.csv’ saved [1148327/1148327]\n",
            "\n"
          ]
        }
      ]
    },
    {
      "cell_type": "markdown",
      "metadata": {
        "id": "Wo5BjsTS3nmy"
      },
      "source": [
        "**Now, let's verify that we have all 7 files we expect**\n",
        "\n",
        "Let's use the `ls` command to list files in the `/tmp` directory. Note that the `*` here is a wildcard, meaning match anything. Specifically, we're looking for `netflix_titles*`, which is match any file or directory that starts with `netflix_titles`."
      ]
    },
    {
      "cell_type": "code",
      "metadata": {
        "id": "8QjJ77UpeS1N",
        "colab": {
          "base_uri": "https://localhost:8080/"
        },
        "outputId": "7bcb291c-fe9d-49bc-c2a2-bbba1b7843fd"
      },
      "source": [
        "!ls"
      ],
      "execution_count": 23,
      "outputs": [
        {
          "output_type": "stream",
          "name": "stdout",
          "text": [
            "features.csv  sample_data\t\t spark-2.4.8-bin-hadoop2.7.tgz\n",
            "labels.csv    spark-2.4.8-bin-hadoop2.7  spark-2.4.8-bin-hadoop2.7.tgz.1\n"
          ]
        }
      ]
    },
    {
      "cell_type": "code",
      "metadata": {
        "id": "QA0YjgfHm4z8"
      },
      "source": [
        "sc = SparkSession.builder.master(\"local[*]\").getOrCreate()"
      ],
      "execution_count": 24,
      "outputs": []
    },
    {
      "cell_type": "code",
      "metadata": {
        "id": "ejFtv3kLm5aH"
      },
      "source": [
        "feature = sc.read.csv(\"features.csv\", inferSchema=True,header=True)\n",
        "label = sc.read.csv(\"labels.csv\", inferSchema=True , header=True)"
      ],
      "execution_count": 44,
      "outputs": []
    },
    {
      "cell_type": "code",
      "metadata": {
        "colab": {
          "base_uri": "https://localhost:8080/"
        },
        "id": "PmdUhIYHm5pC",
        "outputId": "287eb2d6-985c-4a9b-9239-595d8c6efb8b"
      },
      "source": [
        "print(feature.count())\n",
        "print(label.count())\n",
        "print(feature.columns)\n",
        "print(label.columns)"
      ],
      "execution_count": 45,
      "outputs": [
        {
          "output_type": "stream",
          "name": "stdout",
          "text": [
            "59400\n",
            "59400\n",
            "['id', 'amount_tsh', 'date_recorded', 'funder', 'gps_height', 'installer', 'longitude', 'latitude', 'wpt_name', 'num_private', 'basin', 'subvillage', 'region', 'region_code', 'district_code', 'lga', 'ward', 'population', 'public_meeting', 'recorded_by', 'scheme_management', 'scheme_name', 'permit', 'construction_year', 'extraction_type', 'extraction_type_group', 'extraction_type_class', 'management', 'management_group', 'payment', 'payment_type', 'water_quality', 'quality_group', 'quantity', 'quantity_group', 'source', 'source_type', 'source_class', 'waterpoint_type', 'waterpoint_type_group']\n",
            "['id', 'status_group']\n"
          ]
        }
      ]
    },
    {
      "cell_type": "code",
      "metadata": {
        "colab": {
          "base_uri": "https://localhost:8080/"
        },
        "id": "uiDQc6lkm5xb",
        "outputId": "aec22d45-45d9-457f-d85a-cab708a8df24"
      },
      "source": [
        "data = feature.join(label, on=\"id\")\n",
        "print(data.count())\n",
        "print(data.columns)"
      ],
      "execution_count": 46,
      "outputs": [
        {
          "output_type": "stream",
          "name": "stdout",
          "text": [
            "59400\n",
            "['id', 'amount_tsh', 'date_recorded', 'funder', 'gps_height', 'installer', 'longitude', 'latitude', 'wpt_name', 'num_private', 'basin', 'subvillage', 'region', 'region_code', 'district_code', 'lga', 'ward', 'population', 'public_meeting', 'recorded_by', 'scheme_management', 'scheme_name', 'permit', 'construction_year', 'extraction_type', 'extraction_type_group', 'extraction_type_class', 'management', 'management_group', 'payment', 'payment_type', 'water_quality', 'quality_group', 'quantity', 'quantity_group', 'source', 'source_type', 'source_class', 'waterpoint_type', 'waterpoint_type_group', 'status_group']\n"
          ]
        }
      ]
    },
    {
      "cell_type": "code",
      "metadata": {
        "id": "UFrEle5Wm52l"
      },
      "source": [
        "#Changing data types removing whitespaces"
      ],
      "execution_count": 28,
      "outputs": []
    },
    {
      "cell_type": "code",
      "metadata": {
        "colab": {
          "base_uri": "https://localhost:8080/"
        },
        "id": "sg87v-Szm56a",
        "outputId": "df82c40a-ce14-4f3d-c13f-140c6ca3fba2"
      },
      "source": [
        "print(data.printSchema())\n",
        "print(data.show(10))"
      ],
      "execution_count": 47,
      "outputs": [
        {
          "output_type": "stream",
          "name": "stdout",
          "text": [
            "root\n",
            " |-- id: integer (nullable = true)\n",
            " |-- amount_tsh: double (nullable = true)\n",
            " |-- date_recorded: timestamp (nullable = true)\n",
            " |-- funder: string (nullable = true)\n",
            " |-- gps_height: integer (nullable = true)\n",
            " |-- installer: string (nullable = true)\n",
            " |-- longitude: double (nullable = true)\n",
            " |-- latitude: double (nullable = true)\n",
            " |-- wpt_name: string (nullable = true)\n",
            " |-- num_private: integer (nullable = true)\n",
            " |-- basin: string (nullable = true)\n",
            " |-- subvillage: string (nullable = true)\n",
            " |-- region: string (nullable = true)\n",
            " |-- region_code: integer (nullable = true)\n",
            " |-- district_code: integer (nullable = true)\n",
            " |-- lga: string (nullable = true)\n",
            " |-- ward: string (nullable = true)\n",
            " |-- population: integer (nullable = true)\n",
            " |-- public_meeting: boolean (nullable = true)\n",
            " |-- recorded_by: string (nullable = true)\n",
            " |-- scheme_management: string (nullable = true)\n",
            " |-- scheme_name: string (nullable = true)\n",
            " |-- permit: boolean (nullable = true)\n",
            " |-- construction_year: integer (nullable = true)\n",
            " |-- extraction_type: string (nullable = true)\n",
            " |-- extraction_type_group: string (nullable = true)\n",
            " |-- extraction_type_class: string (nullable = true)\n",
            " |-- management: string (nullable = true)\n",
            " |-- management_group: string (nullable = true)\n",
            " |-- payment: string (nullable = true)\n",
            " |-- payment_type: string (nullable = true)\n",
            " |-- water_quality: string (nullable = true)\n",
            " |-- quality_group: string (nullable = true)\n",
            " |-- quantity: string (nullable = true)\n",
            " |-- quantity_group: string (nullable = true)\n",
            " |-- source: string (nullable = true)\n",
            " |-- source_type: string (nullable = true)\n",
            " |-- source_class: string (nullable = true)\n",
            " |-- waterpoint_type: string (nullable = true)\n",
            " |-- waterpoint_type_group: string (nullable = true)\n",
            " |-- status_group: string (nullable = true)\n",
            "\n",
            "None\n",
            "+-----+----------+-------------------+-------------------+----------+------------+-----------+------------+--------------------+-----------+--------------------+---------------+---------+-----------+-------------+---------------+----------+----------+--------------+--------------------+-----------------+--------------------+------+-----------------+---------------+---------------------+---------------------+----------+----------------+--------------+------------+-------------+-------------+------------+--------------+--------------------+--------------------+------------+--------------------+---------------------+--------------+\n",
            "|   id|amount_tsh|      date_recorded|             funder|gps_height|   installer|  longitude|    latitude|            wpt_name|num_private|               basin|     subvillage|   region|region_code|district_code|            lga|      ward|population|public_meeting|         recorded_by|scheme_management|         scheme_name|permit|construction_year|extraction_type|extraction_type_group|extraction_type_class|management|management_group|       payment|payment_type|water_quality|quality_group|    quantity|quantity_group|              source|         source_type|source_class|     waterpoint_type|waterpoint_type_group|  status_group|\n",
            "+-----+----------+-------------------+-------------------+----------+------------+-----------+------------+--------------------+-----------+--------------------+---------------+---------+-----------+-------------+---------------+----------+----------+--------------+--------------------+-----------------+--------------------+------+-----------------+---------------+---------------------+---------------------+----------+----------------+--------------+------------+-------------+-------------+------------+--------------+--------------------+--------------------+------------+--------------------+---------------------+--------------+\n",
            "|69572|    6000.0|2011-03-14 00:00:00|              Roman|      1390|       Roman|34.93809275| -9.85632177|                none|          0|          Lake Nyasa|       Mnyusi B|   Iringa|         11|            5|         Ludewa|  Mundindi|       109|          true|GeoData Consultan...|              VWC|               Roman| false|             1999|        gravity|              gravity|              gravity|       vwc|      user-group|  pay annually|    annually|         soft|         good|      enough|        enough|              spring|              spring| groundwater|  communal standpipe|   communal standpipe|    functional|\n",
            "| 8776|       0.0|2013-03-06 00:00:00|            Grumeti|      1399|     GRUMETI| 34.6987661| -2.14746569|            Zahanati|          0|       Lake Victoria|        Nyamara|     Mara|         20|            2|      Serengeti|     Natta|       280|          null|GeoData Consultan...|            Other|                null|  true|             2010|        gravity|              gravity|              gravity|       wug|      user-group|     never pay|   never pay|         soft|         good|insufficient|  insufficient|rainwater harvesting|rainwater harvesting|     surface|  communal standpipe|   communal standpipe|    functional|\n",
            "|34310|      25.0|2013-02-25 00:00:00|       Lottery Club|       686|World vision|37.46066446| -3.82132853|         Kwa Mahundi|          0|             Pangani|        Majengo|  Manyara|         21|            4|      Simanjiro|   Ngorika|       250|          true|GeoData Consultan...|              VWC|Nyumba ya mungu p...|  true|             2009|        gravity|              gravity|              gravity|       vwc|      user-group|pay per bucket|  per bucket|         soft|         good|      enough|        enough|                 dam|                 dam|     surface|communal standpip...|   communal standpipe|    functional|\n",
            "|67743|       0.0|2013-01-28 00:00:00|             Unicef|       263|      UNICEF|38.48616088|-11.15529772|Zahanati Ya Nanyumbu|          0|Ruvuma / Southern...|     Mahakamani|   Mtwara|         90|           63|       Nanyumbu|  Nanyumbu|        58|          true|GeoData Consultan...|              VWC|                null|  true|             1986|    submersible|          submersible|          submersible|       vwc|      user-group|     never pay|   never pay|         soft|         good|         dry|           dry|         machine dbh|            borehole| groundwater|communal standpip...|   communal standpipe|non functional|\n",
            "|19728|       0.0|2011-07-13 00:00:00|        Action In A|         0|     Artisan|31.13084671| -1.82535885|             Shuleni|          0|       Lake Victoria|     Kyanyamisa|   Kagera|         18|            1|        Karagwe|Nyakasimbi|         0|          true|GeoData Consultan...|             null|                null|  true|                0|        gravity|              gravity|              gravity|     other|           other|     never pay|   never pay|         soft|         good|    seasonal|      seasonal|rainwater harvesting|rainwater harvesting|     surface|  communal standpipe|   communal standpipe|    functional|\n",
            "| 9944|      20.0|2011-03-13 00:00:00|Mkinga Distric Coun|         0|         DWE| 39.1727956| -4.76558728|              Tajiri|          0|             Pangani|    Moa/Mwereme|    Tanga|          4|            8|         Mkinga|       Moa|         1|          true|GeoData Consultan...|              VWC|           Zingibali|  true|             2009|    submersible|          submersible|          submersible|       vwc|      user-group|pay per bucket|  per bucket|        salty|        salty|      enough|        enough|               other|               other|     unknown|communal standpip...|   communal standpipe|    functional|\n",
            "|19816|       0.0|2012-10-01 00:00:00|               Dwsp|         0|        DWSP|33.36240982| -3.76636472|          Kwa Ngomho|          0|            Internal|  Ishinabulandi|Shinyanga|         17|            3|Shinyanga Rural|    Samuye|         0|          true|GeoData Consultan...|              VWC|                null|  true|                0|         swn 80|               swn 80|             handpump|       vwc|      user-group|     never pay|   never pay|         soft|         good|      enough|        enough|         machine dbh|            borehole| groundwater|           hand pump|            hand pump|non functional|\n",
            "|54551|       0.0|2012-10-09 00:00:00|              Rwssp|         0|         DWE|32.62061707| -4.22619802|        Tushirikiane|          0|     Lake Tanganyika|Nyawishi Center|Shinyanga|         17|            3|         Kahama|    Chambo|         0|          true|GeoData Consultan...|             null|                null|  true|                0|    nira/tanira|          nira/tanira|             handpump|       wug|      user-group|       unknown|     unknown|        milky|        milky|      enough|        enough|        shallow well|        shallow well| groundwater|           hand pump|            hand pump|non functional|\n",
            "|53934|       0.0|2012-11-03 00:00:00|           Wateraid|         0|   Water Aid|32.71110001| -5.14671181|   Kwa Ramadhan Musa|          0|     Lake Tanganyika|     Imalauduki|   Tabora|         14|            6|   Tabora Urban|  Itetemia|         0|          true|GeoData Consultan...|              VWC|                null|  true|                0|  india mark ii|        india mark ii|             handpump|       vwc|      user-group|     never pay|   never pay|        salty|        salty|    seasonal|      seasonal|         machine dbh|            borehole| groundwater|           hand pump|            hand pump|non functional|\n",
            "|46144|       0.0|2011-08-03 00:00:00|        Isingiro Ho|         0|     Artisan|30.62699053| -1.25705061|             Kwapeto|          0|       Lake Victoria|       Mkonomre|   Kagera|         18|            1|        Karagwe|    Kaisho|         0|          true|GeoData Consultan...|             null|                null|  true|                0|    nira/tanira|          nira/tanira|             handpump|       vwc|      user-group|     never pay|   never pay|         soft|         good|      enough|        enough|        shallow well|        shallow well| groundwater|           hand pump|            hand pump|    functional|\n",
            "+-----+----------+-------------------+-------------------+----------+------------+-----------+------------+--------------------+-----------+--------------------+---------------+---------+-----------+-------------+---------------+----------+----------+--------------+--------------------+-----------------+--------------------+------+-----------------+---------------+---------------------+---------------------+----------+----------------+--------------+------------+-------------+-------------+------------+--------------+--------------------+--------------------+------------+--------------------+---------------------+--------------+\n",
            "only showing top 10 rows\n",
            "\n",
            "None\n"
          ]
        }
      ]
    },
    {
      "cell_type": "code",
      "metadata": {
        "colab": {
          "base_uri": "https://localhost:8080/",
          "height": 53
        },
        "id": "ScuDIl_dm5-U",
        "outputId": "80531ff8-1b30-4aef-ea76-ec846e27e194"
      },
      "source": [
        "\"\"\" We have region_code: integer (nullable = true)\n",
        " |-- district_code: integer (nullable = true) which should be categorical type otherwise it will impact \n",
        "      machine learning model\"\"\""
      ],
      "execution_count": 30,
      "outputs": [
        {
          "output_type": "execute_result",
          "data": {
            "application/vnd.google.colaboratory.intrinsic+json": {
              "type": "string"
            },
            "text/plain": [
              "' We have region_code: integer (nullable = true)\\n |-- district_code: integer (nullable = true) which should be categorical type otherwise it will impact \\n      machine learning model'"
            ]
          },
          "metadata": {},
          "execution_count": 30
        }
      ]
    },
    {
      "cell_type": "code",
      "metadata": {
        "id": "LTeReCOSm6B9"
      },
      "source": [
        "# Changing Data type to categorical\n",
        "\n",
        "data = data.withColumn(\"region_code\",col('region_code').cast(StringType())).withColumn('district_code',col('district_code').cast(StringType()))"
      ],
      "execution_count": 48,
      "outputs": []
    },
    {
      "cell_type": "code",
      "metadata": {
        "colab": {
          "base_uri": "https://localhost:8080/"
        },
        "id": "4piT__RSm6Ff",
        "outputId": "26c585a9-bbbc-40da-f30f-7909584c166a"
      },
      "source": [
        "data.printSchema()    #now region code and district code has been changed to string "
      ],
      "execution_count": 49,
      "outputs": [
        {
          "output_type": "stream",
          "name": "stdout",
          "text": [
            "root\n",
            " |-- id: integer (nullable = true)\n",
            " |-- amount_tsh: double (nullable = true)\n",
            " |-- date_recorded: timestamp (nullable = true)\n",
            " |-- funder: string (nullable = true)\n",
            " |-- gps_height: integer (nullable = true)\n",
            " |-- installer: string (nullable = true)\n",
            " |-- longitude: double (nullable = true)\n",
            " |-- latitude: double (nullable = true)\n",
            " |-- wpt_name: string (nullable = true)\n",
            " |-- num_private: integer (nullable = true)\n",
            " |-- basin: string (nullable = true)\n",
            " |-- subvillage: string (nullable = true)\n",
            " |-- region: string (nullable = true)\n",
            " |-- region_code: string (nullable = true)\n",
            " |-- district_code: string (nullable = true)\n",
            " |-- lga: string (nullable = true)\n",
            " |-- ward: string (nullable = true)\n",
            " |-- population: integer (nullable = true)\n",
            " |-- public_meeting: boolean (nullable = true)\n",
            " |-- recorded_by: string (nullable = true)\n",
            " |-- scheme_management: string (nullable = true)\n",
            " |-- scheme_name: string (nullable = true)\n",
            " |-- permit: boolean (nullable = true)\n",
            " |-- construction_year: integer (nullable = true)\n",
            " |-- extraction_type: string (nullable = true)\n",
            " |-- extraction_type_group: string (nullable = true)\n",
            " |-- extraction_type_class: string (nullable = true)\n",
            " |-- management: string (nullable = true)\n",
            " |-- management_group: string (nullable = true)\n",
            " |-- payment: string (nullable = true)\n",
            " |-- payment_type: string (nullable = true)\n",
            " |-- water_quality: string (nullable = true)\n",
            " |-- quality_group: string (nullable = true)\n",
            " |-- quantity: string (nullable = true)\n",
            " |-- quantity_group: string (nullable = true)\n",
            " |-- source: string (nullable = true)\n",
            " |-- source_type: string (nullable = true)\n",
            " |-- source_class: string (nullable = true)\n",
            " |-- waterpoint_type: string (nullable = true)\n",
            " |-- waterpoint_type_group: string (nullable = true)\n",
            " |-- status_group: string (nullable = true)\n",
            "\n"
          ]
        }
      ]
    },
    {
      "cell_type": "code",
      "metadata": {
        "colab": {
          "base_uri": "https://localhost:8080/"
        },
        "id": "qpHJnVW9m6If",
        "outputId": "345b9281-17de-46fa-887c-d45146a07ac9"
      },
      "source": [
        "# dropping duplicate values\n",
        "\n",
        "data = data.dropDuplicates(['id'])\n",
        "data.count()"
      ],
      "execution_count": 50,
      "outputs": [
        {
          "output_type": "execute_result",
          "data": {
            "text/plain": [
              "59400"
            ]
          },
          "metadata": {},
          "execution_count": 50
        }
      ]
    },
    {
      "cell_type": "code",
      "metadata": {
        "id": "NNJvpoDvm6LH"
      },
      "source": [
        "# Removing whitespaces\n",
        "\n",
        "cols_str = [item[0] for item in data.dtypes if item[1].startswith(\"string\")]\n",
        "for cols in cols_str:\n",
        "  data = data.withColumn(cols, trim(data[cols]))"
      ],
      "execution_count": 51,
      "outputs": []
    },
    {
      "cell_type": "code",
      "metadata": {
        "colab": {
          "base_uri": "https://localhost:8080/"
        },
        "id": "jLCSGWgIY757",
        "outputId": "f43363d4-4574-4aea-d30f-6140160cb583"
      },
      "source": [
        "data.select([(count(when(isnan(c), c))/data.count()).alias(c) for c in data.columns if c not in {'date_recorded', 'public_meeting', 'permit'}]).show()"
      ],
      "execution_count": 52,
      "outputs": [
        {
          "output_type": "stream",
          "name": "stdout",
          "text": [
            "+---+----------+------+----------+---------+---------+--------+--------+-----------+-----+----------+------+-----------+-------------+---+----+----------+-----------+-----------------+-----------+-----------------+---------------+---------------------+---------------------+----------+----------------+-------+------------+-------------+-------------+--------+--------------+------+-----------+------------+---------------+---------------------+------------+\n",
            "| id|amount_tsh|funder|gps_height|installer|longitude|latitude|wpt_name|num_private|basin|subvillage|region|region_code|district_code|lga|ward|population|recorded_by|scheme_management|scheme_name|construction_year|extraction_type|extraction_type_group|extraction_type_class|management|management_group|payment|payment_type|water_quality|quality_group|quantity|quantity_group|source|source_type|source_class|waterpoint_type|waterpoint_type_group|status_group|\n",
            "+---+----------+------+----------+---------+---------+--------+--------+-----------+-----+----------+------+-----------+-------------+---+----+----------+-----------+-----------------+-----------+-----------------+---------------+---------------------+---------------------+----------+----------------+-------+------------+-------------+-------------+--------+--------------+------+-----------+------------+---------------+---------------------+------------+\n",
            "|0.0|       0.0|   0.0|       0.0|      0.0|      0.0|     0.0|     0.0|        0.0|  0.0|       0.0|   0.0|        0.0|          0.0|0.0| 0.0|       0.0|        0.0|              0.0|        0.0|              0.0|            0.0|                  0.0|                  0.0|       0.0|             0.0|    0.0|         0.0|          0.0|          0.0|     0.0|           0.0|   0.0|        0.0|         0.0|            0.0|                  0.0|         0.0|\n",
            "+---+----------+------+----------+---------+---------+--------+--------+-----------+-----+----------+------+-----------+-------------+---+----+----------+-----------+-----------------+-----------+-----------------+---------------+---------------------+---------------------+----------+----------------+-------+------------+-------------+-------------+--------+--------------+------+-----------+------------+---------------+---------------------+------------+\n",
            "\n"
          ]
        }
      ]
    },
    {
      "cell_type": "code",
      "metadata": {
        "id": "5zC1ymT9m6N9"
      },
      "source": [
        "agg_row = data.select([(count(when(isnan(c), c))/data.count()).alias(c) for c in data.columns if c not in {'date_recorded', 'public_meeting', 'permit'}]).collect()"
      ],
      "execution_count": 53,
      "outputs": []
    },
    {
      "cell_type": "code",
      "metadata": {
        "id": "2o0shMW9m6Q2"
      },
      "source": [
        "# now we have avg so let's convert it into a list\n",
        "\n",
        "agg_dict_list = [row.asDict() for row in agg_row]\n",
        "agg_dict = agg_dict_list[0]"
      ],
      "execution_count": 54,
      "outputs": []
    },
    {
      "cell_type": "code",
      "metadata": {
        "colab": {
          "base_uri": "https://localhost:8080/"
        },
        "id": "omRbhMSry9Hx",
        "outputId": "fdd3fd47-6c95-45f9-bc05-7114f18ebf1a"
      },
      "source": [
        "# remove column which has more than 40% null values\n",
        "\n",
        "col_null = list({a for a in agg_dict if agg_dict[a]>0.4})\n",
        "print(agg_dict)\n",
        "print(col_null)\n",
        "\n",
        "# we will drop the above cols\n",
        "\n",
        "data = data.drop(*col_null)"
      ],
      "execution_count": 55,
      "outputs": [
        {
          "output_type": "stream",
          "name": "stdout",
          "text": [
            "{'id': 0.0, 'amount_tsh': 0.0, 'funder': 0.0, 'gps_height': 0.0, 'installer': 0.0, 'longitude': 0.0, 'latitude': 0.0, 'wpt_name': 0.0, 'num_private': 0.0, 'basin': 0.0, 'subvillage': 0.0, 'region': 0.0, 'region_code': 0.0, 'district_code': 0.0, 'lga': 0.0, 'ward': 0.0, 'population': 0.0, 'recorded_by': 0.0, 'scheme_management': 0.0, 'scheme_name': 0.0, 'construction_year': 0.0, 'extraction_type': 0.0, 'extraction_type_group': 0.0, 'extraction_type_class': 0.0, 'management': 0.0, 'management_group': 0.0, 'payment': 0.0, 'payment_type': 0.0, 'water_quality': 0.0, 'quality_group': 0.0, 'quantity': 0.0, 'quantity_group': 0.0, 'source': 0.0, 'source_type': 0.0, 'source_class': 0.0, 'waterpoint_type': 0.0, 'waterpoint_type_group': 0.0, 'status_group': 0.0}\n",
            "[]\n"
          ]
        }
      ]
    },
    {
      "cell_type": "code",
      "metadata": {
        "id": "Rwcf3tm4y9rc"
      },
      "source": [
        "# Task 4 group, aggregate , create pivot table"
      ],
      "execution_count": 56,
      "outputs": []
    },
    {
      "cell_type": "code",
      "metadata": {
        "colab": {
          "base_uri": "https://localhost:8080/"
        },
        "id": "yh9en456y9wO",
        "outputId": "34e35b5f-810b-41a8-9112-f6c8333d9203"
      },
      "source": [
        "data.groupBy('recorded_by').count().show()"
      ],
      "execution_count": 57,
      "outputs": [
        {
          "output_type": "stream",
          "name": "stdout",
          "text": [
            "+--------------------+-----+\n",
            "|         recorded_by|count|\n",
            "+--------------------+-----+\n",
            "|GeoData Consultan...|59400|\n",
            "+--------------------+-----+\n",
            "\n"
          ]
        }
      ]
    },
    {
      "cell_type": "code",
      "metadata": {
        "colab": {
          "base_uri": "https://localhost:8080/"
        },
        "id": "8HXpF17jy90E",
        "outputId": "d86dfb35-8b59-46d6-f8de-4baabe2df925"
      },
      "source": [
        "data.groupBy('water_quality').count().orderBy('count', ascending=False).show()"
      ],
      "execution_count": 58,
      "outputs": [
        {
          "output_type": "stream",
          "name": "stdout",
          "text": [
            "+------------------+-----+\n",
            "|     water_quality|count|\n",
            "+------------------+-----+\n",
            "|              soft|50818|\n",
            "|             salty| 4856|\n",
            "|           unknown| 1876|\n",
            "|             milky|  804|\n",
            "|          coloured|  490|\n",
            "|   salty abandoned|  339|\n",
            "|          fluoride|  200|\n",
            "|fluoride abandoned|   17|\n",
            "+------------------+-----+\n",
            "\n"
          ]
        }
      ]
    },
    {
      "cell_type": "code",
      "metadata": {
        "id": "xhTgaqMty930"
      },
      "source": [
        "#as recorded by dosen't share much data show I will drop it\n",
        "\n",
        "data = data.drop('recorded_by')"
      ],
      "execution_count": 59,
      "outputs": []
    },
    {
      "cell_type": "code",
      "metadata": {
        "colab": {
          "base_uri": "https://localhost:8080/"
        },
        "id": "vCSy7pZZy97T",
        "outputId": "4b7fdd75-629c-44e5-c4cb-f7b719c49c70"
      },
      "source": [
        "# Creating a pivot where the values will show water amount in each region\n",
        "\n",
        "data.groupBy('status_group').pivot('region').sum('amount_tsh').show()"
      ],
      "execution_count": 60,
      "outputs": [
        {
          "output_type": "stream",
          "name": "stdout",
          "text": [
            "+--------------------+---------+-------------+------+---------+------+--------+------------------+-------+--------+--------+-----+--------+-------+-------+---------+--------+---------+---------+--------+------+--------+\n",
            "|        status_group|   Arusha|Dar es Salaam|Dodoma|   Iringa|Kagera|  Kigoma|       Kilimanjaro|  Lindi| Manyara|    Mara|Mbeya|Morogoro| Mtwara| Mwanza|    Pwani|   Rukwa|   Ruvuma|Shinyanga| Singida|Tabora|   Tanga|\n",
            "+--------------------+---------+-------------+------+---------+------+--------+------------------+-------+--------+--------+-----+--------+-------+-------+---------+--------+---------+---------+--------+------+--------+\n",
            "|functional needs ...|  10280.0|          0.0|   0.0| 118400.0|   0.0|270770.0|          129248.0| 3625.0| 71315.0|   900.0|  0.0| 70005.0|36240.0|10000.0|    520.0|292980.0| 125650.0|   2200.0|  6505.0|   0.0|  4310.0|\n",
            "|          functional|1125485.0|     181175.0|   0.0|5515710.0|   0.0|530725.0|         746942.25|24560.0|312745.0| 96786.0|  0.0|587642.0|52710.0|33550.0|1567765.0|776025.0|1827983.0|  53000.0|863415.0|   0.0|600931.0|\n",
            "|      non functional|  73330.0|       9374.0|   0.0| 752295.0|   0.0|177510.0|248454.40000000002|15730.0| 31420.0|116700.0|  0.0|184120.0|14096.0| 4500.0| 160560.0|416830.0| 414669.0|   1000.0| 74510.2|   0.0|123237.0|\n",
            "+--------------------+---------+-------------+------+---------+------+--------+------------------+-------+--------+--------+-----+--------+-------+-------+---------+--------+---------+---------+--------+------+--------+\n",
            "\n"
          ]
        }
      ]
    },
    {
      "cell_type": "code",
      "metadata": {
        "id": "O04NTIkty9-g"
      },
      "source": [
        "# Task 5 Convert categories with low frequency to others, impute missing values\n"
      ],
      "execution_count": 61,
      "outputs": []
    },
    {
      "cell_type": "code",
      "metadata": {
        "colab": {
          "base_uri": "https://localhost:8080/"
        },
        "id": "N4E9RMDTy-Bs",
        "outputId": "f5c6552b-9e63-41bb-e73a-07881c06ae9d"
      },
      "source": [
        "print(cols_str)"
      ],
      "execution_count": 62,
      "outputs": [
        {
          "output_type": "stream",
          "name": "stdout",
          "text": [
            "['funder', 'installer', 'wpt_name', 'basin', 'subvillage', 'region', 'region_code', 'district_code', 'lga', 'ward', 'recorded_by', 'scheme_management', 'scheme_name', 'extraction_type', 'extraction_type_group', 'extraction_type_class', 'management', 'management_group', 'payment', 'payment_type', 'water_quality', 'quality_group', 'quantity', 'quantity_group', 'source', 'source_type', 'source_class', 'waterpoint_type', 'waterpoint_type_group', 'status_group']\n"
          ]
        }
      ]
    },
    {
      "cell_type": "code",
      "metadata": {
        "colab": {
          "base_uri": "https://localhost:8080/",
          "height": 1000
        },
        "id": "xQNdgQFGy-FQ",
        "outputId": "0ee72587-7562-4302-b854-470cd06c3176"
      },
      "source": [
        "for column in cols_str:\n",
        "  print(data.groupBy(column).count().orderBy('count', ascending=False).show())\n",
        "  values_cat = data.groupBy(column).count().collect()\n",
        "  lessthan = [x[0] for x in values_cat if x[1]< 1000]\n",
        "  data = data.withColumn(column, when(col(column).isin(lessthan), 'Others').otherwise(col(column)))\n",
        "  data.groupBy(column).count().orderBy('count', ascending=False).show()"
      ],
      "execution_count": 63,
      "outputs": [
        {
          "output_type": "stream",
          "name": "stdout",
          "text": [
            "+--------------------+-----+\n",
            "|              funder|count|\n",
            "+--------------------+-----+\n",
            "|Government Of Tan...| 9084|\n",
            "|                null| 3635|\n",
            "|              Danida| 3114|\n",
            "|              Hesawa| 2202|\n",
            "|               Rwssp| 1374|\n",
            "|          World Bank| 1349|\n",
            "|                Kkkt| 1287|\n",
            "|        World Vision| 1246|\n",
            "|              Unicef| 1057|\n",
            "|               Tasaf|  877|\n",
            "|    District Council|  843|\n",
            "|                 Dhv|  829|\n",
            "|  Private Individual|  826|\n",
            "|                Dwsp|  811|\n",
            "|                   0|  777|\n",
            "|               Norad|  765|\n",
            "|     Germany Republi|  610|\n",
            "|                Tcrs|  602|\n",
            "|   Ministry Of Water|  590|\n",
            "|               Water|  583|\n",
            "+--------------------+-----+\n",
            "only showing top 20 rows\n",
            "\n",
            "None\n",
            "+--------------------+-----+\n",
            "|              funder|count|\n",
            "+--------------------+-----+\n",
            "|              Others|35052|\n",
            "|Government Of Tan...| 9084|\n",
            "|                null| 3635|\n",
            "|              Danida| 3114|\n",
            "|              Hesawa| 2202|\n",
            "|               Rwssp| 1374|\n",
            "|          World Bank| 1349|\n",
            "|                Kkkt| 1287|\n",
            "|        World Vision| 1246|\n",
            "|              Unicef| 1057|\n",
            "+--------------------+-----+\n",
            "\n",
            "+------------------+-----+\n",
            "|         installer|count|\n",
            "+------------------+-----+\n",
            "|               DWE|17402|\n",
            "|              null| 3655|\n",
            "|        Government| 1825|\n",
            "|               RWE| 1206|\n",
            "|             Commu| 1060|\n",
            "|            DANIDA| 1050|\n",
            "|              KKKT|  898|\n",
            "|            Hesawa|  840|\n",
            "|                 0|  777|\n",
            "|              TCRS|  707|\n",
            "|Central government|  622|\n",
            "|               CES|  610|\n",
            "|         Community|  553|\n",
            "|             DANID|  552|\n",
            "|  District Council|  551|\n",
            "|            HESAWA|  539|\n",
            "|               LGA|  408|\n",
            "|      World vision|  408|\n",
            "|            WEDECO|  397|\n",
            "|             TASAF|  396|\n",
            "+------------------+-----+\n",
            "only showing top 20 rows\n",
            "\n",
            "None\n",
            "+----------+-----+\n",
            "| installer|count|\n",
            "+----------+-----+\n",
            "|    Others|33202|\n",
            "|       DWE|17402|\n",
            "|      null| 3655|\n",
            "|Government| 1825|\n",
            "|       RWE| 1206|\n",
            "|     Commu| 1060|\n",
            "|    DANIDA| 1050|\n",
            "+----------+-----+\n",
            "\n",
            "+---------------+-----+\n",
            "|       wpt_name|count|\n",
            "+---------------+-----+\n",
            "|           none| 3563|\n",
            "|        Shuleni| 1748|\n",
            "|       Zahanati|  830|\n",
            "|      Msikitini|  535|\n",
            "|       Kanisani|  323|\n",
            "|        Bombani|  271|\n",
            "|         Sokoni|  260|\n",
            "|        Ofisini|  254|\n",
            "|         School|  208|\n",
            "|Shule Ya Msingi|  199|\n",
            "|          Shule|  152|\n",
            "|      Sekondari|  146|\n",
            "|       Muungano|  133|\n",
            "|       Mkombozi|  111|\n",
            "|       Madukani|  104|\n",
            "|        Mbugani|   94|\n",
            "|       Hospital|   94|\n",
            "|         Upendo|   93|\n",
            "| Kituo Cha Afya|   90|\n",
            "|        Mkuyuni|   88|\n",
            "+---------------+-----+\n",
            "only showing top 20 rows\n",
            "\n",
            "None\n",
            "+--------+-----+\n",
            "|wpt_name|count|\n",
            "+--------+-----+\n",
            "|  Others|54089|\n",
            "|    none| 3563|\n",
            "| Shuleni| 1748|\n",
            "+--------+-----+\n",
            "\n",
            "+--------------------+-----+\n",
            "|               basin|count|\n",
            "+--------------------+-----+\n",
            "|       Lake Victoria|10248|\n",
            "|             Pangani| 8940|\n",
            "|              Rufiji| 7976|\n",
            "|            Internal| 7785|\n",
            "|     Lake Tanganyika| 6432|\n",
            "|         Wami / Ruvu| 5987|\n",
            "|          Lake Nyasa| 5085|\n",
            "|Ruvuma / Southern...| 4493|\n",
            "|          Lake Rukwa| 2454|\n",
            "+--------------------+-----+\n",
            "\n",
            "None\n",
            "+--------------------+-----+\n",
            "|               basin|count|\n",
            "+--------------------+-----+\n",
            "|       Lake Victoria|10248|\n",
            "|             Pangani| 8940|\n",
            "|              Rufiji| 7976|\n",
            "|            Internal| 7785|\n",
            "|     Lake Tanganyika| 6432|\n",
            "|         Wami / Ruvu| 5987|\n",
            "|          Lake Nyasa| 5085|\n",
            "|Ruvuma / Southern...| 4493|\n",
            "|          Lake Rukwa| 2454|\n",
            "+--------------------+-----+\n",
            "\n",
            "+----------+-----+\n",
            "|subvillage|count|\n",
            "+----------+-----+\n",
            "|  Madukani|  508|\n",
            "|   Shuleni|  506|\n",
            "|   Majengo|  502|\n",
            "|      Kati|  373|\n",
            "|      null|  371|\n",
            "|   Mtakuja|  262|\n",
            "|    Sokoni|  232|\n",
            "|         M|  187|\n",
            "|  Muungano|  172|\n",
            "|   Mbuyuni|  164|\n",
            "|   Mlimani|  152|\n",
            "|Songambele|  147|\n",
            "|  Miembeni|  134|\n",
            "| Msikitini|  134|\n",
            "|         1|  132|\n",
            "|   Kibaoni|  114|\n",
            "|  Kanisani|  111|\n",
            "|         I|  109|\n",
            "| Mapinduzi|  109|\n",
            "|     Mjini|  108|\n",
            "+----------+-----+\n",
            "only showing top 20 rows\n",
            "\n",
            "None\n",
            "+----------+-----+\n",
            "|subvillage|count|\n",
            "+----------+-----+\n",
            "|    Others|59029|\n",
            "|      null|  371|\n",
            "+----------+-----+\n",
            "\n",
            "+-----------+-----+\n",
            "|     region|count|\n",
            "+-----------+-----+\n",
            "|     Iringa| 5294|\n",
            "|  Shinyanga| 4982|\n",
            "|      Mbeya| 4639|\n",
            "|Kilimanjaro| 4379|\n",
            "|   Morogoro| 4006|\n",
            "|     Arusha| 3350|\n",
            "|     Kagera| 3316|\n",
            "|     Mwanza| 3102|\n",
            "|     Kigoma| 2816|\n",
            "|     Ruvuma| 2640|\n",
            "|      Pwani| 2635|\n",
            "|      Tanga| 2547|\n",
            "|     Dodoma| 2201|\n",
            "|    Singida| 2093|\n",
            "|       Mara| 1969|\n",
            "|     Tabora| 1959|\n",
            "|      Rukwa| 1808|\n",
            "|     Mtwara| 1730|\n",
            "|    Manyara| 1583|\n",
            "|      Lindi| 1546|\n",
            "+-----------+-----+\n",
            "only showing top 20 rows\n",
            "\n",
            "None\n",
            "+-----------+-----+\n",
            "|     region|count|\n",
            "+-----------+-----+\n",
            "|     Iringa| 5294|\n",
            "|  Shinyanga| 4982|\n",
            "|      Mbeya| 4639|\n",
            "|Kilimanjaro| 4379|\n",
            "|   Morogoro| 4006|\n",
            "|     Arusha| 3350|\n",
            "|     Kagera| 3316|\n",
            "|     Mwanza| 3102|\n",
            "|     Kigoma| 2816|\n",
            "|     Ruvuma| 2640|\n",
            "|      Pwani| 2635|\n",
            "|      Tanga| 2547|\n",
            "|     Dodoma| 2201|\n",
            "|    Singida| 2093|\n",
            "|       Mara| 1969|\n",
            "|     Tabora| 1959|\n",
            "|      Rukwa| 1808|\n",
            "|     Mtwara| 1730|\n",
            "|    Manyara| 1583|\n",
            "|      Lindi| 1546|\n",
            "+-----------+-----+\n",
            "only showing top 20 rows\n",
            "\n",
            "+-----------+-----+\n",
            "|region_code|count|\n",
            "+-----------+-----+\n",
            "|         11| 5300|\n",
            "|         17| 5011|\n",
            "|         12| 4639|\n",
            "|          3| 4379|\n",
            "|          5| 4040|\n",
            "|         18| 3324|\n",
            "|         19| 3047|\n",
            "|          2| 3024|\n",
            "|         16| 2816|\n",
            "|         10| 2640|\n",
            "|          4| 2513|\n",
            "|          1| 2201|\n",
            "|         13| 2093|\n",
            "|         14| 1979|\n",
            "|         20| 1969|\n",
            "|         15| 1808|\n",
            "|          6| 1609|\n",
            "|         21| 1583|\n",
            "|         80| 1238|\n",
            "|         60| 1025|\n",
            "+-----------+-----+\n",
            "only showing top 20 rows\n",
            "\n",
            "None\n",
            "+-----------+-----+\n",
            "|region_code|count|\n",
            "+-----------+-----+\n",
            "|         11| 5300|\n",
            "|         17| 5011|\n",
            "|         12| 4639|\n",
            "|          3| 4379|\n",
            "|          5| 4040|\n",
            "|         18| 3324|\n",
            "|     Others| 3162|\n",
            "|         19| 3047|\n",
            "|          2| 3024|\n",
            "|         16| 2816|\n",
            "|         10| 2640|\n",
            "|          4| 2513|\n",
            "|          1| 2201|\n",
            "|         13| 2093|\n",
            "|         14| 1979|\n",
            "|         20| 1969|\n",
            "|         15| 1808|\n",
            "|          6| 1609|\n",
            "|         21| 1583|\n",
            "|         80| 1238|\n",
            "+-----------+-----+\n",
            "only showing top 20 rows\n",
            "\n",
            "+-------------+-----+\n",
            "|district_code|count|\n",
            "+-------------+-----+\n",
            "|            1|12203|\n",
            "|            2|11173|\n",
            "|            3| 9998|\n",
            "|            4| 8999|\n",
            "|            5| 4356|\n",
            "|            6| 4074|\n",
            "|            7| 3343|\n",
            "|            8| 1043|\n",
            "|           30|  995|\n",
            "|           33|  874|\n",
            "|           53|  745|\n",
            "|           43|  505|\n",
            "|           13|  391|\n",
            "|           23|  293|\n",
            "|           63|  195|\n",
            "|           62|  109|\n",
            "|           60|   63|\n",
            "|            0|   23|\n",
            "|           80|   12|\n",
            "|           67|    6|\n",
            "+-------------+-----+\n",
            "\n",
            "None\n",
            "+-------------+-----+\n",
            "|district_code|count|\n",
            "+-------------+-----+\n",
            "|            1|12203|\n",
            "|            2|11173|\n",
            "|            3| 9998|\n",
            "|            4| 8999|\n",
            "|            5| 4356|\n",
            "|       Others| 4211|\n",
            "|            6| 4074|\n",
            "|            7| 3343|\n",
            "|            8| 1043|\n",
            "+-------------+-----+\n",
            "\n",
            "+-------------+-----+\n",
            "|          lga|count|\n",
            "+-------------+-----+\n",
            "|       Njombe| 2503|\n",
            "| Arusha Rural| 1252|\n",
            "|  Moshi Rural| 1251|\n",
            "|      Bariadi| 1177|\n",
            "|       Rungwe| 1106|\n",
            "|       Kilosa| 1094|\n",
            "|       Kasulu| 1047|\n",
            "|        Mbozi| 1034|\n",
            "|         Meru| 1009|\n",
            "|     Bagamoyo|  997|\n",
            "|Singida Rural|  995|\n",
            "|    Kilombero|  959|\n",
            "|         Same|  877|\n",
            "|      Kibondo|  874|\n",
            "|        Kyela|  859|\n",
            "|       Kahama|  836|\n",
            "| Kigoma Rural|  824|\n",
            "|         Magu|  824|\n",
            "|        Maswa|  809|\n",
            "|      Karagwe|  771|\n",
            "+-------------+-----+\n",
            "only showing top 20 rows\n",
            "\n",
            "None\n",
            "+------------+-----+\n",
            "|         lga|count|\n",
            "+------------+-----+\n",
            "|      Others|47927|\n",
            "|      Njombe| 2503|\n",
            "|Arusha Rural| 1252|\n",
            "| Moshi Rural| 1251|\n",
            "|     Bariadi| 1177|\n",
            "|      Rungwe| 1106|\n",
            "|      Kilosa| 1094|\n",
            "|      Kasulu| 1047|\n",
            "|       Mbozi| 1034|\n",
            "|        Meru| 1009|\n",
            "+------------+-----+\n",
            "\n",
            "+-------------+-----+\n",
            "|         ward|count|\n",
            "+-------------+-----+\n",
            "|        Igosi|  307|\n",
            "|     Imalinyi|  252|\n",
            "|    Siha Kati|  232|\n",
            "|       Mdandu|  231|\n",
            "|      Nduruma|  217|\n",
            "|      Mishamo|  203|\n",
            "|      Kitunda|  203|\n",
            "|       Msindo|  201|\n",
            "|     Chalinze|  196|\n",
            "| Maji ya Chai|  190|\n",
            "|        Usuka|  187|\n",
            "| Ngarenanyuki|  172|\n",
            "|      Chanika|  171|\n",
            "|      Vikindu|  162|\n",
            "|      Mtwango|  153|\n",
            "|       Matola|  145|\n",
            "|Zinga/Ikerege|  141|\n",
            "| Wanging'ombe|  139|\n",
            "|      Maramba|  139|\n",
            "|        Itete|  137|\n",
            "+-------------+-----+\n",
            "only showing top 20 rows\n",
            "\n",
            "None\n",
            "+------+-----+\n",
            "|  ward|count|\n",
            "+------+-----+\n",
            "|Others|59400|\n",
            "+------+-----+\n",
            "\n"
          ]
        },
        {
          "output_type": "error",
          "ename": "AnalysisException",
          "evalue": "ignored",
          "traceback": [
            "\u001b[0;31m---------------------------------------------------------------------------\u001b[0m",
            "\u001b[0;31mPy4JJavaError\u001b[0m                             Traceback (most recent call last)",
            "\u001b[0;32m/content/spark-2.4.8-bin-hadoop2.7/python/pyspark/sql/utils.py\u001b[0m in \u001b[0;36mdeco\u001b[0;34m(*a, **kw)\u001b[0m\n\u001b[1;32m     62\u001b[0m         \u001b[0;32mtry\u001b[0m\u001b[0;34m:\u001b[0m\u001b[0;34m\u001b[0m\u001b[0;34m\u001b[0m\u001b[0m\n\u001b[0;32m---> 63\u001b[0;31m             \u001b[0;32mreturn\u001b[0m \u001b[0mf\u001b[0m\u001b[0;34m(\u001b[0m\u001b[0;34m*\u001b[0m\u001b[0ma\u001b[0m\u001b[0;34m,\u001b[0m \u001b[0;34m**\u001b[0m\u001b[0mkw\u001b[0m\u001b[0;34m)\u001b[0m\u001b[0;34m\u001b[0m\u001b[0;34m\u001b[0m\u001b[0m\n\u001b[0m\u001b[1;32m     64\u001b[0m         \u001b[0;32mexcept\u001b[0m \u001b[0mpy4j\u001b[0m\u001b[0;34m.\u001b[0m\u001b[0mprotocol\u001b[0m\u001b[0;34m.\u001b[0m\u001b[0mPy4JJavaError\u001b[0m \u001b[0;32mas\u001b[0m \u001b[0me\u001b[0m\u001b[0;34m:\u001b[0m\u001b[0;34m\u001b[0m\u001b[0;34m\u001b[0m\u001b[0m\n",
            "\u001b[0;32m/content/spark-2.4.8-bin-hadoop2.7/python/lib/py4j-0.10.7-src.zip/py4j/protocol.py\u001b[0m in \u001b[0;36mget_return_value\u001b[0;34m(answer, gateway_client, target_id, name)\u001b[0m\n\u001b[1;32m    327\u001b[0m                     \u001b[0;34m\"An error occurred while calling {0}{1}{2}.\\n\"\u001b[0m\u001b[0;34m.\u001b[0m\u001b[0;34m\u001b[0m\u001b[0;34m\u001b[0m\u001b[0m\n\u001b[0;32m--> 328\u001b[0;31m                     format(target_id, \".\", name), value)\n\u001b[0m\u001b[1;32m    329\u001b[0m             \u001b[0;32melse\u001b[0m\u001b[0;34m:\u001b[0m\u001b[0;34m\u001b[0m\u001b[0;34m\u001b[0m\u001b[0m\n",
            "\u001b[0;31mPy4JJavaError\u001b[0m: An error occurred while calling o65134.count.\n: org.apache.spark.sql.AnalysisException: cannot resolve '`recorded_by`' given input columns: [source_type, public_meeting, management, quantity, scheme_management, source_class, num_private, funder, installer, id, extraction_type, date_recorded, population, payment_type, water_quality, district_code, region, extraction_type_group, wpt_name, extraction_type_class, status_group, waterpoint_type, subvillage, payment, quantity_group, waterpoint_type_group, quality_group, amount_tsh, construction_year, lga, latitude, basin, region_code, source, permit, scheme_name, gps_height, management_group, ward, longitude];;\n'Aggregate ['recorded_by], ['recorded_by, count(1) AS count#26750L]\n+- Project [id#8561, amount_tsh#8562, date_recorded#8563, funder#23562, gps_height#8565, installer#23896, longitude#8567, latitude#8568, wpt_name#24230, num_private#8570, basin#24564, subvillage#24898, region#25232, region_code#25566, district_code#25900, lga#26234, CASE WHEN ward#9512 IN (Kibingo,Shinghatini,Luchili,Ukune,Chiponda,Lusahunga,Kitura,Soni,Nyanguge,Mlowo,Lilambo,Kongolo,Masumbwe,Mngazi,Makata,Muhukuru,Saunyi,Manyoni,Tumbi,Segala,Igalula,Nkololo,Ovada,Moivo,Segera,Bashinet,Mhande,Nalasi,Murusagamba,Ubiri,Kalunde,Luswisi,Makurugusi,Sumbugu,Gendabi,Mtekente,Umwe,Ufana,Selela,Mtombozi,Lalago,Ludende,Ruhunga,Irole,Nkoanrua,Nanhyanga,Kate,Ifumbo,Itaba,Litembo,Mpondo,Ibumi,Kazunzu,Chilangala,Ilujamate,Chinugulu,Mandawa,Maramba,Ihowanza,Boma la ng'ombe,Nyamilama,Nandembo,Nakapanya,Kipanga,Mamba Kaskazini,Isagenhe,Msalato,Iringa Mvumi,Kachwamba,Lunguya,Badi,Msangano,Kihorogota,Misezero,Bukene,Vigwaza,Sokon I,Vikumbulu,Mnyawa,Kihonda,Turwa,Chawi,Dung'unyi,Ipelele,Kanindo,Sokoni II,Ibwera,Kamuli,Masaba,Gwandi,Bukindo,Magindu,Hombolo,Muhange,Kukirango,Kingale,Chela,Gungu,Mbekenyera,Unyambwa,Sima,Negero,Gua,Kebanchabancha,Mabamba,Isingiro,Kidatu,Lwamgasa,Mbogwe,Haneti,Ulanda,Msanja,Mpiruka,Balangidalalu,Tambuka Reli,Mwanga Kaskazini,Mazae,Chalinze,Arusha Chini,Muganza,Panzuo,Mbamba bay,Mhezi,Kadoto,Miono,Kisarawe,Maneromango,Mlandizi,Bukanda,Ligoma,Pandagichiza,Tambani,Gelai Meirugoi,Sunuka,Ndogosi,Nduguti,Bukwe,Itilima,Mbweni,Idodyandole,Ipuli,Kizumbi,Buterankuzi,Mbede,U...\n   +- Project [id#8561, amount_tsh#8562, date_recorded#8563, funder#23562, gps_height#8565, installer#23896, longitude#8567, latitude#8568, wpt_name#24230, num_private#8570, basin#24564, subvillage#24898, region#25232, region_code#25566, district_code#25900, CASE WHEN lga#9470 IN (Manyoni,Karagwe,Nachingwea,Geita,Kisarawe,Mbarali,Kishapu,Chamwino,Ukerewe,Songea Urban,Rombo,Kigoma Urban,Mafia,Ludewa,Kilindi,Same,Iringa Rural,Urambo,Sumbawanga Urban,Moshi Urban,Mbinga,Kahama,Monduli,Bukombe,Sikonge,Kondoa,Ileje,Nkasi,Mpanda,Mwanga,Mtwara Urban,Ngara,Muleba,Pangani,Mbulu,Siha,Biharamulo,Mpwapwa,Kilwa,Lindi Urban,Simanjiro,Namtumbo,Muheza,Bahi,Morogoro Urban,Misenyi,Handeni,Mkinga,Bagamoyo,Karatu,Bunda,Sumbawanga Rural,Singida Rural,Meatu,Kilolo,Tabora Urban,Kiteto,Hai,Tandahimba,Shinyanga Rural,Dodoma Urban,Kilombero,Chunya,Newala,Ruangwa,Shinyanga Urban,Arusha Urban,Kyela,Ilemela,Bukoba Urban,Maswa,Tanga,Liwale,Babati,Morogoro Rural,Lushoto,Igunga,Ngorongoro,Nzega,Hanang,Kigoma Rural,Ilala,Kibondo,Chato,Ulanga,Tarime,Mufindi,Kongwa,Nanyumbu,Missungwi,Makete,Magu,Musoma Rural,Songea Rural,Mbeya Rural,Sengerema,Nyamagana,Mvomero,Korogwe,Kibaha,Mkuranga,Rufiji,Longido,Mtwara Rural,Serengeti,Rorya,Lindi Rural,Temeke,Tunduru,Bukoba Rural,Masasi,Kwimba,Iramba,Singida Urban,Kinondoni,Uyui) THEN Others ELSE lga#9470 END AS lga#26234, ward#9512, population#8578, public_meeting#8579, scheme_management#9596, scheme_name#9638, permit#8583, construction_year#8584, extraction_type#9680, ....\n      +- Project [id#8561, amount_tsh#8562, date_recorded#8563, funder#23562, gps_height#8565, installer#23896, longitude#8567, latitude#8568, wpt_name#24230, num_private#8570, basin#24564, subvillage#24898, region#25232, region_code#25566, CASE WHEN district_code#9428 IN (30,0,43,60,23,53,33,67,63,62,13,80) THEN Others ELSE district_code#9428 END AS district_code#25900, lga#9470, ward#9512, population#8578, public_meeting#8579, scheme_management#9596, scheme_name#9638, permit#8583, construction_year#8584, extraction_type#9680, ... 16 more fields]\n         +- Project [id#8561, amount_tsh#8562, date_recorded#8563, funder#23562, gps_height#8565, installer#23896, longitude#8567, latitude#8568, wpt_name#24230, num_private#8570, basin#24564, subvillage#24898, region#25232, CASE WHEN region_code#9386 IN (7,8,99,90,40,9,24) THEN Others ELSE region_code#9386 END AS region_code#25566, district_code#9428, lga#9470, ward#9512, population#8578, public_meeting#8579, scheme_management#9596, scheme_name#9638, permit#8583, construction_year#8584, extraction_type#9680, ... 16 more fields]\n            +- Project [id#8561, amount_tsh#8562, date_recorded#8563, funder#23562, gps_height#8565, installer#23896, longitude#8567, latitude#8568, wpt_name#24230, num_private#8570, basin#24564, subvillage#24898, CASE WHEN region#9344 IN (Dar es Salaam) THEN Others ELSE region#9344 END AS region#25232, region_code#9386, district_code#9428, lga#9470, ward#9512, population#8578, public_meeting#8579, scheme_management#9596, scheme_name#9638, permit#8583, construction_year#8584, extraction_type#9680, ... 16 more fields]\n               +- Project [id#8561, amount_tsh#8562, date_recorded#8563, funder#23562, gps_height#8565, installer#23896, longitude#8567, latitude#8568, wpt_name#24230, num_private#8570, basin#24564, CASE WHEN cast(subvillage#9302 as string) IN (cast(Kibaoni A as string),cast(Mwarongo as string),cast(K as string),cast(Mfumbu as string),cast(Mlenvya as string),cast(Mwaginde as string),cast(Uzinje as string),cast(Tumbiko as string),cast(Antakaye as string),cast(Mringa Sekondari as string),cast(Kahanama as string),cast(Nyiluko as string),cast(Mkakechuru as string),cast(Motomoto as string),cast(Magadu as string),cast(Mtaa Wa Zavala as string),cast(Kibagwe as string),cast(Kitokatoke as string),cast(Lusapo as string),cast(Larugumu as string),cast(Mwamlungu as string),cast(Ikwega as string),cast(Mwabashinda as string),cast(Ifuriny as string),cast(Kibingo as string),cast(Yuuri as string),cast(Itebe as string),cast(Mbwemkuru Kaskazini as string),cast(Mungi Juu as string),cast(Besurura as string),cast(Namagama as string),cast(Ilalangulu as string),cast(Mlandizi Chini as string),cast(Galilea as string),cast(Mtawanya Sokoni as string),cast(Omaro as string),cast(Biganana as string),cast(Mundu as string),cast(Mkhono as string),cast(Merali as string),cast(Majengo Mapya as string),cast(Kaloleni B as string),cast(Mikarambia as string),cast(Mwakulungalunga as string),cast(Mbuchi 'B' as string),cast(Rwatankororo as string),cast(Igobe as string),cast(Silika as string),cast(Uwinwi as string),ca...\n                  +- Project [id#8561, amount_tsh#8562, date_recorded#8563, funder#23562, gps_height#8565, installer#23896, longitude#8567, latitude#8568, wpt_name#24230, num_private#8570, CASE WHEN basin#9260 IN () THEN Others ELSE basin#9260 END AS basin#24564, subvillage#9302, region#9344, region_code#9386, district_code#9428, lga#9470, ward#9512, population#8578, public_meeting#8579, scheme_management#9596, scheme_name#9638, permit#8583, construction_year#8584, extraction_type#9680, ... 16 more fields]\n                     +- Project [id#8561, amount_tsh#8562, date_recorded#8563, funder#23562, gps_height#8565, installer#23896, longitude#8567, latitude#8568, CASE WHEN wpt_name#9218 IN (Kwa Upendo Joachim,Majengo Mapya,Kwa Dotto,Senta Dp No.4,Adrea,Antakaye,Plot 15,Kwa Lucas,Mama Mlamsanga,Kwakabakama,Kwa Edmund Salingwa,Kwa Kitula,Mama Kenisi,Kwa Lugulaja Ubili,Larugumu,Komkole Shule,Kwa Marry Pascal,Ibalaibi,Kwamsoma,Baraza,Kwa Muhamed Zahor,Laurence,Bwaloni,K,Mapinduzi-Shuleni,Neema Ya Mungu,Kisangani,Kwa Kelvin,Kwa Kisingura,Motomoto,Safira Mgina,Mwanakiola,Dp 10,Kwa Ramadhani Juma,Kwa Elimirinda,Mwaijumba,Kwa Awetu Ahmad,Kwa Mkila,Kwa Mang'Ondaa,Kwa Kiom,Kwa Lindenge,K/Primary,Kwa Mzee Mwalongo,Kwa Mwakamela Mwakipesil,Miembeni B,Mamahuruma B,Kihemba,Kwa Ikonze,Kwa Doni,Nyanhenge,Kwa Ereneusi,Mizanza,Uwinwi,Mwama,Omaro,Kwa Mzee Abas,Mwasheuya,Kibua,Mataru,Shuleni - Lema,Muwondo A,Gola,Kwandunguru,Kasindi,Kwa Ngongo,Bahabura,Tanki Ndogo,Makundya Mfungo,Kwa Sophia Rashid,Masegese,Kwama Mndorwa,Kabiki Nyimvi,Ukumbini,Simon Mwiyala,Daisama,Mbono,Kwa Kabano,Kijuweni,Siaonga,Kwaudela,Mzee Namaleta,Kwa Mdugi,Kwa Mzee Lusiusi,Mwakatobe,Kwa Akili Mwangona,Kwalukwaijo,Juma Rada,Ilalangulu,Madege A,Kwa William Malya,Venus William,Philipo Maerere,Kwa Askofu Kamonongo,Kwa Chalolo,Kwamsusa,Nyalugoti,Kwa Abdalahamani,Kwa Alex Macha,Wazungu,Kwa Milton Wikunge,Uwomba,Kukuli,Kwa Hamisi Mstapha,Jwa Bonny,Mlang'Amba,Kaseni Primary School,Bomboo,Yasine Sanga,Edward Machali,Dickson Gira,Kw...\n                        +- Project [id#8561, amount_tsh#8562, date_recorded#8563, funder#23562, gps_height#8565, CASE WHEN installer#9176 IN (Regional Water,BGM,DWR,Roman Cathoric -Kilomeni,Sao,RC mission,Village Government,Institution,K/Primary,Wedeco,K,CRS,Birage,GOVER,Hussein Ayubu,TUMAINI FUND,Internal Drainage Basin,stansilaus,Mombo urban water s,GURUMETI SAGITA CO,Got,TUKWARE ENTERP,JALCA,APM,Mwl.Mwita,HOWARD HUMFREYS,TASF,OXFARM,TPP,Villager,Plan International,COMMU,DUWAS,Consultant and DWE,Deus Ndege,DWE /TASSAF,TCRS TWESA,Milenium,DSP,Max Mbise,Said Omari,Icf,MDRDP,Luthe,JUINE CO,Buguba,rc church,EMANDA BUILDERS,Plan Tanzania,GDP,JLH CO LTD,Wilson,Africa Muslim Agenc,Embasy of Japan in Tanzania,District Water Department,IFAD,JANDU PLUMBER  CO,Hanja Lt,Caltus,Cosmo,john skwese,WORLD NK,Singida yetu,Kata,LUNGWE,Zuber Mihungo,AQUA Wel,hesaw,Te,Meru Concrete,District council,DAWE,Local  technician,KONOIKE,Water,IDEA,UN ONE,Tarangire park,Nandra Construction,Gerald,TLC/Seleman Mang'ombe,GACHUMA CONSTRUCTION,EA,Elius Chacha,BRA,Neemia mission,Rashid Mahongwe,RUDEP/,ILCT,World,lutheran church,MOSQUE,Yakwetu Contractor,World Division,Oikos E Africa,RC church,RC Njoro,WUS,MAZI INVESTMENT,AIMGOLD,Heri mission,ANGRIKANA,Said Hashim,WEEPERS,Morrovian,RO,Qwick Win,Mkuluku,FinWate,JAPAN,Mayiro,Wahidi,Central government,MTUWASA,local,MISSION,joery magabe,FIDA,DV,District Council,Islamic,ACTIVE TANK CO,MASWI CO,GRUMENTI,Water  Aid/Maji tech,DWE/TASSAF,MSIKIT,Matyenye,MH Kapuya,WI...\n                           +- Project [id#8561, amount_tsh#8562, date_recorded#8563, CASE WHEN funder#9134 IN (Unicef/ Csp,Ukiligu,Village Government,Drv Na Idara,Institution,Unhcr/government,K,Birage,Rc Church,Oikos E.Africa/european Union,Secondary Schoo,Germany Cristians,Internal Drainage Basin,Private Institutions,Mwl.Mwita,Domestic Rural Development Pr,Wvt,Plan International,Domestic Water Supply Project,Shule Ya Msingi Ufala,Rotaty Club,Chai Wazir,Okutu Village Community,Said Omari,Icf,Matata Selemani,Ubalozi Wa Japani,Luthe,Kidep,Adp Mombo,Quick Win Project /council,Scott,Mzee Don,Health  Ministry,Plan Tanzania,Wilson,Caltus,Kata,H/w,Mwita Machota,Muslimehefen International,Meru Concrete,If,Fpct Mulala,Water,China Government,Sun-ja Na,Qwickwin,Hassan Gulam,Parastatal An,Woyege,Rashid Mahongwe,Sowasa,Nethe,Simav,Floresta,Eu,Germany Misionary,Father W,Kenyans Company,Oak'zion' And Bugango B' Commu,Doddea,Loliondo Secondary,Desk And Chair Foundation,Williamson Diamond Ltd,Said Hashim,Mmanya Abdallah,Kwik,Morrovian,Lions Club Kilimanjaro,Qwick Win,Mkuluku,Mheza Distric Counc,Mayiro,Wahidi,Stabex,Villegers,Ministry Of Water,Ngiresi Village Community,Care Int,District Council,Magadini-makiwaru Water,Islamic,Cartas Tanzania,Sweden,Government/school,Mama Mery Nagu,Zao Water Spring,Matyenye,Apm,Usa Embassy,H4ccp,Singida Yetu,Quick Wins Scheme,Mwita Mahiti,Su-ki Jang,Timothy Shindika,Stansilaus,Ebaha,Gil Cafe'church',Pentecostal Church,Eater,Bank,Institutional,Tredep,Karadea ...\n                              +- Project [id#8561, amount_tsh#8562, date_recorded#8563, funder#9134, gps_height#8565, installer#9176, longitude#8567, latitude#8568, wpt_name#9218, num_private#8570, basin#9260, subvillage#9302, region#9344, region_code#9386, district_code#9428, lga#9470, ward#9512, population#8578, public_meeting#8579, scheme_management#9596, scheme_name#9638, permit#8583, construction_year#8584, extraction_type#9680, ... 16 more fields]\n                                 +- Project [id#8561, amount_tsh#8562, date_recorded#8563, funder#9134, gps_height#8565, installer#9176, longitude#8567, latitude#8568, wpt_name#9218, num_private#8570, basin#9260, subvillage#9302, region#9344, region_code#9386, district_code#9428, lga#9470, ward#9512, population#8578, public_meeting#8579, recorded_by#9554, scheme_management#9596, scheme_name#9638, permit#8583, construction_year#8584, ... 17 more fields]\n                                    +- Project [id#8561, amount_tsh#8562, date_recorded#8563, funder#9134, gps_height#8565, installer#9176, longitude#8567, latitude#8568, wpt_name#9218, num_private#8570, basin#9260, subvillage#9302, region#9344, region_code#9386, district_code#9428, lga#9470, ward#9512, population#8578, public_meeting#8579, recorded_by#9554, scheme_management#9596, scheme_name#9638, permit#8583, construction_year#8584, ... 17 more fields]\n                                       +- Project [id#8561, amount_tsh#8562, date_recorded#8563, funder#9134, gps_height#8565, installer#9176, longitude#8567, latitude#8568, wpt_name#9218, num_private#8570, basin#9260, subvillage#9302, region#9344, region_code#9386, district_code#9428, lga#9470, ward#9512, population#8578, public_meeting#8579, recorded_by#9554, scheme_management#9596, scheme_name#9638, permit#8583, construction_year#8584, ... 17 more fields]\n                                          +- Project [id#8561, amount_tsh#8562, date_recorded#8563, funder#9134, gps_height#8565, installer#9176, longitude#8567, latitude#8568, wpt_name#9218, num_private#8570, basin#9260, subvillage#9302, region#9344, region_code#9386, district_code#9428, lga#9470, ward#9512, population#8578, public_meeting#8579, recorded_by#9554, scheme_management#9596, scheme_name#9638, permit#8583, construction_year#8584, ... 17 more fields]\n                                             +- Project [id#8561, amount_tsh#8562, date_recorded#8563, funder#9134, gps_height#8565, installer#9176, longitude#8567, latitude#8568, wpt_name#9218, num_private#8570, basin#9260, subvillage#9302, region#9344, region_code#9386, district_code#9428, lga#9470, ward#9512, population#8578, public_meeting#8579, recorded_by#9554, scheme_management#9596, scheme_name#9638, permit#8583, construction_year#8584, ... 17 more fields]\n                                                +- Project [id#8561, amount_tsh#8562, date_recorded#8563, funder#9134, gps_height#8565, installer#9176, longitude#8567, latitude#8568, wpt_name#9218, num_private#8570, basin#9260, subvillage#9302, region#9344, region_code#9386, district_code#9428, lga#9470, ward#9512, population#8578, public_meeting#8579, recorded_by#9554, scheme_management#9596, scheme_name#9638, permit#8583, construction_year#8584, ... 17 more fields]\n                                                   +- Project [id#8561, amount_tsh#8562, date_recorded#8563, funder#9134, gps_height#8565, installer#9176, longitude#8567, latitude#8568, wpt_name#9218, num_private#8570, basin#9260, subvillage#9302, region#9344, region_code#9386, district_code#9428, lga#9470, ward#9512, population#8578, public_meeting#8579, recorded_by#9554, scheme_management#9596, scheme_name#9638, permit#8583, construction_year#8584, ... 17 more fields]\n                                                      +- Project [id#8561, amount_tsh#8562, date_recorded#8563, funder#9134, gps_height#8565, installer#9176, longitude#8567, latitude#8568, wpt_name#9218, num_private#8570, basin#9260, subvillage#9302, region#9344, region_code#9386, district_code#9428, lga#9470, ward#9512, population#8578, public_meeting#8579, recorded_by#9554, scheme_management#9596, scheme_name#9638, permit#8583, construction_year#8584, ... 17 more fields]\n                                                         +- Project [id#8561, amount_tsh#8562, date_recorded#8563, funder#9134, gps_height#8565, installer#9176, longitude#8567, latitude#8568, wpt_name#9218, num_private#8570, basin#9260, subvillage#9302, region#9344, region_code#9386, district_code#9428, lga#9470, ward#9512, population#8578, public_meeting#8579, recorded_by#9554, scheme_management#9596, scheme_name#9638, permit#8583, construction_year#8584, ... 17 more fields]\n                                                            +- Project [id#8561, amount_tsh#8562, date_recorded#8563, funder#9134, gps_height#8565, installer#9176, longitude#8567, latitude#8568, wpt_name#9218, num_private#8570, basin#9260, subvillage#9302, region#9344, region_code#9386, district_code#9428, lga#9470, ward#9512, population#8578, public_meeting#8579, recorded_by#9554, scheme_management#9596, scheme_name#9638, permit#8583, construction_year#8584, ... 17 more fields]\n                                                               +- Project [id#8561, amount_tsh#8562, date_recorded#8563, funder#9134, gps_height#8565, installer#9176, longitude#8567, latitude#8568, wpt_name#9218, num_private#8570, basin#9260, subvillage#9302, region#9344, region_code#9386, district_code#9428, lga#9470, ward#9512, population#8578, public_meeting#8579, recorded_by#9554, scheme_management#9596, scheme_name#9638, permit#8583, construction_year#8584, ... 17 more fields]\n                                                                  +- Project [id#8561, amount_tsh#8562, date_recorded#8563, funder#9134, gps_height#8565, installer#9176, longitude#8567, latitude#8568, wpt_name#9218, num_private#8570, basin#9260, subvillage#9302, region#9344, region_code#9386, district_code#9428, lga#9470, ward#9512, population#8578, public_meeting#8579, recorded_by#9554, scheme_management#9596, scheme_name#9638, permit#8583, construction_year#8584, ... 17 more fields]\n                                                                     +- Project [id#8561, amount_tsh#8562, date_recorded#8563, funder#9134, gps_height#8565, installer#9176, longitude#8567, latitude#8568, wpt_name#9218, num_private#8570, basin#9260, subvillage#9302, region#9344, region_code#9386, district_code#9428, lga#9470, ward#9512, population#8578, public_meeting#8579, recorded_by#9554, scheme_management#9596, scheme_name#9638, permit#8583, construction_year#8584, ... 17 more fields]\n                                                                        +- Project [id#8561, amount_tsh#8562, date_recorded#8563, funder#9134, gps_height#8565, installer#9176, longitude#8567, latitude#8568, wpt_name#9218, num_private#8570, basin#9260, subvillage#9302, region#9344, region_code#9386, district_code#9428, lga#9470, ward#9512, population#8578, public_meeting#8579, recorded_by#9554, scheme_management#9596, scheme_name#9638, permit#8583, construction_year#8584, ... 17 more fields]\n                                                                           +- Project [id#8561, amount_tsh#8562, date_recorded#8563, funder#9134, gps_height#8565, installer#9176, longitude#8567, latitude#8568, wpt_name#9218, num_private#8570, basin#9260, subvillage#9302, region#9344, region_code#9386, district_code#9428, lga#9470, ward#9512, population#8578, public_meeting#8579, recorded_by#9554, scheme_management#9596, scheme_name#9638, permit#8583, construction_year#8584, ... 17 more fields]\n                                                                              +- Project [id#8561, amount_tsh#8562, date_recorded#8563, funder#9134, gps_height#8565, installer#9176, longitude#8567, latitude#8568, wpt_name#9218, num_private#8570, basin#9260, subvillage#9302, region#9344, region_code#9386, district_code#9428, lga#9470, ward#9512, population#8578, public_meeting#8579, recorded_by#9554, scheme_management#9596, scheme_name#9638, permit#8583, construction_year#8584, ... 17 more fields]\n                                                                                 +- Project [id#8561, amount_tsh#8562, date_recorded#8563, funder#9134, gps_height#8565, installer#9176, longitude#8567, latitude#8568, wpt_name#9218, num_private#8570, basin#9260, subvillage#9302, region#9344, region_code#9386, district_code#9428, lga#9470, ward#9512, population#8578, public_meeting#8579, recorded_by#9554, scheme_management#9596, scheme_name#9638, permit#8583, construction_year#8584, ... 17 more fields]\n                                                                                    +- Project [id#8561, amount_tsh#8562, date_recorded#8563, funder#9134, gps_height#8565, installer#9176, longitude#8567, latitude#8568, wpt_name#9218, num_private#8570, basin#9260, subvillage#9302, region#9344, region_code#9386, district_code#9428, lga#9470, ward#9512, population#8578, public_meeting#8579, recorded_by#9554, scheme_management#9596, trim(scheme_name#8582, None) AS scheme_name#9638, permit#8583, construction_year#8584, ... 17 more fields]\n                                                                                       +- Project [id#8561, amount_tsh#8562, date_recorded#8563, funder#9134, gps_height#8565, installer#9176, longitude#8567, latitude#8568, wpt_name#9218, num_private#8570, basin#9260, subvillage#9302, region#9344, region_code#9386, district_code#9428, lga#9470, ward#9512, population#8578, public_meeting#8579, recorded_by#9554, trim(scheme_management#8581, None) AS scheme_management#9596, scheme_name#8582, permit#8583, construction_year#8584, ... 17 more fields]\n                                                                                          +- Project [id#8561, amount_tsh#8562, date_recorded#8563, funder#9134, gps_height#8565, installer#9176, longitude#8567, latitude#8568, wpt_name#9218, num_private#8570, basin#9260, subvillage#9302, region#9344, region_code#9386, district_code#9428, lga#9470, ward#9512, population#8578, public_meeting#8579, trim(recorded_by#8580, None) AS recorded_by#9554, scheme_management#8581, scheme_name#8582, permit#8583, construction_year#8584, ... 17 more fields]\n                                                                                             +- Project [id#8561, amount_tsh#8562, date_recorded#8563, funder#9134, gps_height#8565, installer#9176, longitude#8567, latitude#8568, wpt_name#9218, num_private#8570, basin#9260, subvillage#9302, region#9344, region_code#9386, district_code#9428, lga#9470, trim(ward#8577, None) AS ward#9512, population#8578, public_meeting#8579, recorded_by#8580, scheme_management#8581, scheme_name#8582, permit#8583, construction_year#8584, ... 17 more fields]\n                                                                                                +- Project [id#8561, amount_tsh#8562, date_recorded#8563, funder#9134, gps_height#8565, installer#9176, longitude#8567, latitude#8568, wpt_name#9218, num_private#8570, basin#9260, subvillage#9302, region#9344, region_code#9386, district_code#9428, trim(lga#8576, None) AS lga#9470, ward#8577, population#8578, public_meeting#8579, recorded_by#8580, scheme_management#8581, scheme_name#8582, permit#8583, construction_year#8584, ... 17 more fields]\n                                                                                                   +- Project [id#8561, amount_tsh#8562, date_recorded#8563, funder#9134, gps_height#8565, installer#9176, longitude#8567, latitude#8568, wpt_name#9218, num_private#8570, basin#9260, subvillage#9302, region#9344, region_code#9386, trim(district_code#9004, None) AS district_code#9428, lga#8576, ward#8577, population#8578, public_meeting#8579, recorded_by#8580, scheme_management#8581, scheme_name#8582, permit#8583, construction_year#8584, ... 17 more fields]\n                                                                                                      +- Project [id#8561, amount_tsh#8562, date_recorded#8563, funder#9134, gps_height#8565, installer#9176, longitude#8567, latitude#8568, wpt_name#9218, num_private#8570, basin#9260, subvillage#9302, region#9344, trim(region_code#8962, None) AS region_code#9386, district_code#9004, lga#8576, ward#8577, population#8578, public_meeting#8579, recorded_by#8580, scheme_management#8581, scheme_name#8582, permit#8583, construction_year#8584, ... 17 more fields]\n                                                                                                         +- Project [id#8561, amount_tsh#8562, date_recorded#8563, funder#9134, gps_height#8565, installer#9176, longitude#8567, latitude#8568, wpt_name#9218, num_private#8570, basin#9260, subvillage#9302, trim(region#8573, None) AS region#9344, region_code#8962, district_code#9004, lga#8576, ward#8577, population#8578, public_meeting#8579, recorded_by#8580, scheme_management#8581, scheme_name#8582, permit#8583, construction_year#8584, ... 17 more fields]\n                                                                                                            +- Project [id#8561, amount_tsh#8562, date_recorded#8563, funder#9134, gps_height#8565, installer#9176, longitude#8567, latitude#8568, wpt_name#9218, num_private#8570, basin#9260, trim(subvillage#8572, None) AS subvillage#9302, region#8573, region_code#8962, district_code#9004, lga#8576, ward#8577, population#8578, public_meeting#8579, recorded_by#8580, scheme_management#8581, scheme_name#8582, permit#8583, construction_year#8584, ... 17 more fields]\n                                                                                                               +- Project [id#8561, amount_tsh#8562, date_recorded#8563, funder#9134, gps_height#8565, installer#9176, longitude#8567, latitude#8568, wpt_name#9218, num_private#8570, trim(basin#8571, None) AS basin#9260, subvillage#8572, region#8573, region_code#8962, district_code#9004, lga#8576, ward#8577, population#8578, public_meeting#8579, recorded_by#8580, scheme_management#8581, scheme_name#8582, permit#8583, construction_year#8584, ... 17 more fields]\n                                                                                                                  +- Project [id#8561, amount_tsh#8562, date_recorded#8563, funder#9134, gps_height#8565, installer#9176, longitude#8567, latitude#8568, trim(wpt_name#8569, None) AS wpt_name#9218, num_private#8570, basin#8571, subvillage#8572, region#8573, region_code#8962, district_code#9004, lga#8576, ward#8577, population#8578, public_meeting#8579, recorded_by#8580, scheme_management#8581, scheme_name#8582, permit#8583, construction_year#8584, ... 17 more fields]\n                                                                                                                     +- Project [id#8561, amount_tsh#8562, date_recorded#8563, funder#9134, gps_height#8565, trim(installer#8566, None) AS installer#9176, longitude#8567, latitude#8568, wpt_name#8569, num_private#8570, basin#8571, subvillage#8572, region#8573, region_code#8962, district_code#9004, lga#8576, ward#8577, population#8578, public_meeting#8579, recorded_by#8580, scheme_management#8581, scheme_name#8582, permit#8583, construction_year#8584, ... 17 more fields]\n                                                                                                                        +- Project [id#8561, amount_tsh#8562, date_recorded#8563, trim(funder#8564, None) AS funder#9134, gps_height#8565, installer#8566, longitude#8567, latitude#8568, wpt_name#8569, num_private#8570, basin#8571, subvillage#8572, region#8573, region_code#8962, district_code#9004, lga#8576, ward#8577, population#8578, public_meeting#8579, recorded_by#8580, scheme_management#8581, scheme_name#8582, permit#8583, construction_year#8584, ... 17 more fields]\n                                                                                                                           +- Deduplicate [id#8561]\n                                                                                                                              +- Project [id#8561, amount_tsh#8562, date_recorded#8563, funder#8564, gps_height#8565, installer#8566, longitude#8567, latitude#8568, wpt_name#8569, num_private#8570, basin#8571, subvillage#8572, region#8573, region_code#8962, cast(district_code#8575 as string) AS district_code#9004, lga#8576, ward#8577, population#8578, public_meeting#8579, recorded_by#8580, scheme_management#8581, scheme_name#8582, permit#8583, construction_year#8584, ... 17 more fields]\n                                                                                                                                 +- Project [id#8561, amount_tsh#8562, date_recorded#8563, funder#8564, gps_height#8565, installer#8566, longitude#8567, latitude#8568, wpt_name#8569, num_private#8570, basin#8571, subvillage#8572, region#8573, cast(region_code#8574 as string) AS region_code#8962, district_code#8575, lga#8576, ward#8577, population#8578, public_meeting#8579, recorded_by#8580, scheme_management#8581, scheme_name#8582, permit#8583, construction_year#8584, ... 17 more fields]\n                                                                                                                                    +- Project [id#8561, amount_tsh#8562, date_recorded#8563, funder#8564, gps_height#8565, installer#8566, longitude#8567, latitude#8568, wpt_name#8569, num_private#8570, basin#8571, subvillage#8572, region#8573, region_code#8574, district_code#8575, lga#8576, ward#8577, population#8578, public_meeting#8579, recorded_by#8580, scheme_management#8581, scheme_name#8582, permit#8583, construction_year#8584, ... 17 more fields]\n                                                                                                                                       +- Join Inner, (id#8561 = id#8651)\n                                                                                                                                          :- Relation[id#8561,amount_tsh#8562,date_recorded#8563,funder#8564,gps_height#8565,installer#8566,longitude#8567,latitude#8568,wpt_name#8569,num_private#8570,basin#8571,subvillage#8572,region#8573,region_code#8574,district_code#8575,lga#8576,ward#8577,population#8578,public_meeting#8579,recorded_by#8580,scheme_management#8581,scheme_name#8582,permit#8583,construction_year#8584,... 16 more fields] csv\n                                                                                                                                          +- Relation[id#8651,status_group#8652] csv\n\n\tat org.apache.spark.sql.catalyst.analysis.package$AnalysisErrorAt.failAnalysis(package.scala:42)\n\tat org.apache.spark.sql.catalyst.analysis.CheckAnalysis$$anonfun$checkAnalysis$1$$anonfun$apply$3.applyOrElse(CheckAnalysis.scala:113)\n\tat org.apache.spark.sql.catalyst.analysis.CheckAnalysis$$anonfun$checkAnalysis$1$$anonfun$apply$3.applyOrElse(CheckAnalysis.scala:110)\n\tat org.apache.spark.sql.catalyst.trees.TreeNode$$anonfun$transformUp$1.apply(TreeNode.scala:280)\n\tat org.apache.spark.sql.catalyst.trees.TreeNode$$anonfun$transformUp$1.apply(TreeNode.scala:280)\n\tat org.apache.spark.sql.catalyst.trees.CurrentOrigin$.withOrigin(TreeNode.scala:69)\n\tat org.apache.spark.sql.catalyst.trees.TreeNode.transformUp(TreeNode.scala:279)\n\tat org.apache.spark.sql.catalyst.plans.QueryPlan$$anonfun$transformExpressionsUp$1.apply(QueryPlan.scala:93)\n\tat org.apache.spark.sql.catalyst.plans.QueryPlan$$anonfun$transformExpressionsUp$1.apply(QueryPlan.scala:93)\n\tat org.apache.spark.sql.catalyst.plans.QueryPlan$$anonfun$1.apply(QueryPlan.scala:105)\n\tat org.apache.spark.sql.catalyst.plans.QueryPlan$$anonfun$1.apply(QueryPlan.scala:105)\n\tat org.apache.spark.sql.catalyst.trees.CurrentOrigin$.withOrigin(TreeNode.scala:69)\n\tat org.apache.spark.sql.catalyst.plans.QueryPlan.transformExpression$1(QueryPlan.scala:104)\n\tat org.apache.spark.sql.catalyst.plans.QueryPlan.org$apache$spark$sql$catalyst$plans$QueryPlan$$recursiveTransform$1(QueryPlan.scala:116)\n\tat org.apache.spark.sql.catalyst.plans.QueryPlan$$anonfun$org$apache$spark$sql$catalyst$plans$QueryPlan$$recursiveTransform$1$2.apply(QueryPlan.scala:121)\n\tat scala.collection.TraversableLike$$anonfun$map$1.apply(TraversableLike.scala:234)\n\tat scala.collection.TraversableLike$$anonfun$map$1.apply(TraversableLike.scala:234)\n\tat scala.collection.mutable.ResizableArray$class.foreach(ResizableArray.scala:59)\n\tat scala.collection.mutable.ArrayBuffer.foreach(ArrayBuffer.scala:48)\n\tat scala.collection.TraversableLike$class.map(TraversableLike.scala:234)\n\tat scala.collection.AbstractTraversable.map(Traversable.scala:104)\n\tat org.apache.spark.sql.catalyst.plans.QueryPlan.org$apache$spark$sql$catalyst$plans$QueryPlan$$recursiveTransform$1(QueryPlan.scala:121)\n\tat org.apache.spark.sql.catalyst.plans.QueryPlan$$anonfun$2.apply(QueryPlan.scala:126)\n\tat org.apache.spark.sql.catalyst.trees.TreeNode.mapProductIterator(TreeNode.scala:186)\n\tat org.apache.spark.sql.catalyst.plans.QueryPlan.mapExpressions(QueryPlan.scala:126)\n\tat org.apache.spark.sql.catalyst.plans.QueryPlan.transformExpressionsUp(QueryPlan.scala:93)\n\tat org.apache.spark.sql.catalyst.analysis.CheckAnalysis$$anonfun$checkAnalysis$1.apply(CheckAnalysis.scala:110)\n\tat org.apache.spark.sql.catalyst.analysis.CheckAnalysis$$anonfun$checkAnalysis$1.apply(CheckAnalysis.scala:88)\n\tat org.apache.spark.sql.catalyst.trees.TreeNode.foreachUp(TreeNode.scala:126)\n\tat org.apache.spark.sql.catalyst.analysis.CheckAnalysis$class.checkAnalysis(CheckAnalysis.scala:88)\n\tat org.apache.spark.sql.catalyst.analysis.Analyzer.checkAnalysis(Analyzer.scala:95)\n\tat org.apache.spark.sql.catalyst.analysis.Analyzer$$anonfun$executeAndCheck$1.apply(Analyzer.scala:108)\n\tat org.apache.spark.sql.catalyst.analysis.Analyzer$$anonfun$executeAndCheck$1.apply(Analyzer.scala:105)\n\tat org.apache.spark.sql.catalyst.plans.logical.AnalysisHelper$.markInAnalyzer(AnalysisHelper.scala:201)\n\tat org.apache.spark.sql.catalyst.analysis.Analyzer.executeAndCheck(Analyzer.scala:105)\n\tat org.apache.spark.sql.execution.QueryExecution.analyzed$lzycompute(QueryExecution.scala:58)\n\tat org.apache.spark.sql.execution.QueryExecution.analyzed(QueryExecution.scala:56)\n\tat org.apache.spark.sql.execution.QueryExecution.assertAnalyzed(QueryExecution.scala:48)\n\tat org.apache.spark.sql.Dataset$.ofRows(Dataset.scala:78)\n\tat org.apache.spark.sql.RelationalGroupedDataset.toDF(RelationalGroupedDataset.scala:65)\n\tat org.apache.spark.sql.RelationalGroupedDataset.count(RelationalGroupedDataset.scala:237)\n\tat sun.reflect.GeneratedMethodAccessor198.invoke(Unknown Source)\n\tat sun.reflect.DelegatingMethodAccessorImpl.invoke(DelegatingMethodAccessorImpl.java:43)\n\tat java.lang.reflect.Method.invoke(Method.java:498)\n\tat py4j.reflection.MethodInvoker.invoke(MethodInvoker.java:244)\n\tat py4j.reflection.ReflectionEngine.invoke(ReflectionEngine.java:357)\n\tat py4j.Gateway.invoke(Gateway.java:282)\n\tat py4j.commands.AbstractCommand.invokeMethod(AbstractCommand.java:132)\n\tat py4j.commands.CallCommand.execute(CallCommand.java:79)\n\tat py4j.GatewayConnection.run(GatewayConnection.java:238)\n\tat java.lang.Thread.run(Thread.java:748)\n",
            "\nDuring handling of the above exception, another exception occurred:\n",
            "\u001b[0;31mAnalysisException\u001b[0m                         Traceback (most recent call last)",
            "\u001b[0;32m<ipython-input-63-158d4843bc72>\u001b[0m in \u001b[0;36m<module>\u001b[0;34m()\u001b[0m\n\u001b[1;32m      1\u001b[0m \u001b[0;32mfor\u001b[0m \u001b[0mcolumn\u001b[0m \u001b[0;32min\u001b[0m \u001b[0mcols_str\u001b[0m\u001b[0;34m:\u001b[0m\u001b[0;34m\u001b[0m\u001b[0;34m\u001b[0m\u001b[0m\n\u001b[0;32m----> 2\u001b[0;31m   \u001b[0mprint\u001b[0m\u001b[0;34m(\u001b[0m\u001b[0mdata\u001b[0m\u001b[0;34m.\u001b[0m\u001b[0mgroupBy\u001b[0m\u001b[0;34m(\u001b[0m\u001b[0mcolumn\u001b[0m\u001b[0;34m)\u001b[0m\u001b[0;34m.\u001b[0m\u001b[0mcount\u001b[0m\u001b[0;34m(\u001b[0m\u001b[0;34m)\u001b[0m\u001b[0;34m.\u001b[0m\u001b[0morderBy\u001b[0m\u001b[0;34m(\u001b[0m\u001b[0;34m'count'\u001b[0m\u001b[0;34m,\u001b[0m \u001b[0mascending\u001b[0m\u001b[0;34m=\u001b[0m\u001b[0;32mFalse\u001b[0m\u001b[0;34m)\u001b[0m\u001b[0;34m.\u001b[0m\u001b[0mshow\u001b[0m\u001b[0;34m(\u001b[0m\u001b[0;34m)\u001b[0m\u001b[0;34m)\u001b[0m\u001b[0;34m\u001b[0m\u001b[0;34m\u001b[0m\u001b[0m\n\u001b[0m\u001b[1;32m      3\u001b[0m   \u001b[0mvalues_cat\u001b[0m \u001b[0;34m=\u001b[0m \u001b[0mdata\u001b[0m\u001b[0;34m.\u001b[0m\u001b[0mgroupBy\u001b[0m\u001b[0;34m(\u001b[0m\u001b[0mcolumn\u001b[0m\u001b[0;34m)\u001b[0m\u001b[0;34m.\u001b[0m\u001b[0mcount\u001b[0m\u001b[0;34m(\u001b[0m\u001b[0;34m)\u001b[0m\u001b[0;34m.\u001b[0m\u001b[0mcollect\u001b[0m\u001b[0;34m(\u001b[0m\u001b[0;34m)\u001b[0m\u001b[0;34m\u001b[0m\u001b[0;34m\u001b[0m\u001b[0m\n\u001b[1;32m      4\u001b[0m   \u001b[0mlessthan\u001b[0m \u001b[0;34m=\u001b[0m \u001b[0;34m[\u001b[0m\u001b[0mx\u001b[0m\u001b[0;34m[\u001b[0m\u001b[0;36m0\u001b[0m\u001b[0;34m]\u001b[0m \u001b[0;32mfor\u001b[0m \u001b[0mx\u001b[0m \u001b[0;32min\u001b[0m \u001b[0mvalues_cat\u001b[0m \u001b[0;32mif\u001b[0m \u001b[0mx\u001b[0m\u001b[0;34m[\u001b[0m\u001b[0;36m1\u001b[0m\u001b[0;34m]\u001b[0m\u001b[0;34m<\u001b[0m \u001b[0;36m1000\u001b[0m\u001b[0;34m]\u001b[0m\u001b[0;34m\u001b[0m\u001b[0;34m\u001b[0m\u001b[0m\n\u001b[1;32m      5\u001b[0m   \u001b[0mdata\u001b[0m \u001b[0;34m=\u001b[0m \u001b[0mdata\u001b[0m\u001b[0;34m.\u001b[0m\u001b[0mwithColumn\u001b[0m\u001b[0;34m(\u001b[0m\u001b[0mcolumn\u001b[0m\u001b[0;34m,\u001b[0m \u001b[0mwhen\u001b[0m\u001b[0;34m(\u001b[0m\u001b[0mcol\u001b[0m\u001b[0;34m(\u001b[0m\u001b[0mcolumn\u001b[0m\u001b[0;34m)\u001b[0m\u001b[0;34m.\u001b[0m\u001b[0misin\u001b[0m\u001b[0;34m(\u001b[0m\u001b[0mlessthan\u001b[0m\u001b[0;34m)\u001b[0m\u001b[0;34m,\u001b[0m \u001b[0;34m'Others'\u001b[0m\u001b[0;34m)\u001b[0m\u001b[0;34m.\u001b[0m\u001b[0motherwise\u001b[0m\u001b[0;34m(\u001b[0m\u001b[0mcol\u001b[0m\u001b[0;34m(\u001b[0m\u001b[0mcolumn\u001b[0m\u001b[0;34m)\u001b[0m\u001b[0;34m)\u001b[0m\u001b[0;34m)\u001b[0m\u001b[0;34m\u001b[0m\u001b[0;34m\u001b[0m\u001b[0m\n",
            "\u001b[0;32m/content/spark-2.4.8-bin-hadoop2.7/python/pyspark/sql/group.py\u001b[0m in \u001b[0;36m_api\u001b[0;34m(self)\u001b[0m\n\u001b[1;32m     30\u001b[0m     \u001b[0;32mdef\u001b[0m \u001b[0m_api\u001b[0m\u001b[0;34m(\u001b[0m\u001b[0mself\u001b[0m\u001b[0;34m)\u001b[0m\u001b[0;34m:\u001b[0m\u001b[0;34m\u001b[0m\u001b[0;34m\u001b[0m\u001b[0m\n\u001b[1;32m     31\u001b[0m         \u001b[0mname\u001b[0m \u001b[0;34m=\u001b[0m \u001b[0mf\u001b[0m\u001b[0;34m.\u001b[0m\u001b[0m__name__\u001b[0m\u001b[0;34m\u001b[0m\u001b[0;34m\u001b[0m\u001b[0m\n\u001b[0;32m---> 32\u001b[0;31m         \u001b[0mjdf\u001b[0m \u001b[0;34m=\u001b[0m \u001b[0mgetattr\u001b[0m\u001b[0;34m(\u001b[0m\u001b[0mself\u001b[0m\u001b[0;34m.\u001b[0m\u001b[0m_jgd\u001b[0m\u001b[0;34m,\u001b[0m \u001b[0mname\u001b[0m\u001b[0;34m)\u001b[0m\u001b[0;34m(\u001b[0m\u001b[0;34m)\u001b[0m\u001b[0;34m\u001b[0m\u001b[0;34m\u001b[0m\u001b[0m\n\u001b[0m\u001b[1;32m     33\u001b[0m         \u001b[0;32mreturn\u001b[0m \u001b[0mDataFrame\u001b[0m\u001b[0;34m(\u001b[0m\u001b[0mjdf\u001b[0m\u001b[0;34m,\u001b[0m \u001b[0mself\u001b[0m\u001b[0;34m.\u001b[0m\u001b[0msql_ctx\u001b[0m\u001b[0;34m)\u001b[0m\u001b[0;34m\u001b[0m\u001b[0;34m\u001b[0m\u001b[0m\n\u001b[1;32m     34\u001b[0m     \u001b[0m_api\u001b[0m\u001b[0;34m.\u001b[0m\u001b[0m__name__\u001b[0m \u001b[0;34m=\u001b[0m \u001b[0mf\u001b[0m\u001b[0;34m.\u001b[0m\u001b[0m__name__\u001b[0m\u001b[0;34m\u001b[0m\u001b[0;34m\u001b[0m\u001b[0m\n",
            "\u001b[0;32m/content/spark-2.4.8-bin-hadoop2.7/python/lib/py4j-0.10.7-src.zip/py4j/java_gateway.py\u001b[0m in \u001b[0;36m__call__\u001b[0;34m(self, *args)\u001b[0m\n\u001b[1;32m   1255\u001b[0m         \u001b[0manswer\u001b[0m \u001b[0;34m=\u001b[0m \u001b[0mself\u001b[0m\u001b[0;34m.\u001b[0m\u001b[0mgateway_client\u001b[0m\u001b[0;34m.\u001b[0m\u001b[0msend_command\u001b[0m\u001b[0;34m(\u001b[0m\u001b[0mcommand\u001b[0m\u001b[0;34m)\u001b[0m\u001b[0;34m\u001b[0m\u001b[0;34m\u001b[0m\u001b[0m\n\u001b[1;32m   1256\u001b[0m         return_value = get_return_value(\n\u001b[0;32m-> 1257\u001b[0;31m             answer, self.gateway_client, self.target_id, self.name)\n\u001b[0m\u001b[1;32m   1258\u001b[0m \u001b[0;34m\u001b[0m\u001b[0m\n\u001b[1;32m   1259\u001b[0m         \u001b[0;32mfor\u001b[0m \u001b[0mtemp_arg\u001b[0m \u001b[0;32min\u001b[0m \u001b[0mtemp_args\u001b[0m\u001b[0;34m:\u001b[0m\u001b[0;34m\u001b[0m\u001b[0;34m\u001b[0m\u001b[0m\n",
            "\u001b[0;32m/content/spark-2.4.8-bin-hadoop2.7/python/pyspark/sql/utils.py\u001b[0m in \u001b[0;36mdeco\u001b[0;34m(*a, **kw)\u001b[0m\n\u001b[1;32m     67\u001b[0m                                              e.java_exception.getStackTrace()))\n\u001b[1;32m     68\u001b[0m             \u001b[0;32mif\u001b[0m \u001b[0ms\u001b[0m\u001b[0;34m.\u001b[0m\u001b[0mstartswith\u001b[0m\u001b[0;34m(\u001b[0m\u001b[0;34m'org.apache.spark.sql.AnalysisException: '\u001b[0m\u001b[0;34m)\u001b[0m\u001b[0;34m:\u001b[0m\u001b[0;34m\u001b[0m\u001b[0;34m\u001b[0m\u001b[0m\n\u001b[0;32m---> 69\u001b[0;31m                 \u001b[0;32mraise\u001b[0m \u001b[0mAnalysisException\u001b[0m\u001b[0;34m(\u001b[0m\u001b[0ms\u001b[0m\u001b[0;34m.\u001b[0m\u001b[0msplit\u001b[0m\u001b[0;34m(\u001b[0m\u001b[0;34m': '\u001b[0m\u001b[0;34m,\u001b[0m \u001b[0;36m1\u001b[0m\u001b[0;34m)\u001b[0m\u001b[0;34m[\u001b[0m\u001b[0;36m1\u001b[0m\u001b[0;34m]\u001b[0m\u001b[0;34m,\u001b[0m \u001b[0mstackTrace\u001b[0m\u001b[0;34m)\u001b[0m\u001b[0;34m\u001b[0m\u001b[0;34m\u001b[0m\u001b[0m\n\u001b[0m\u001b[1;32m     70\u001b[0m             \u001b[0;32mif\u001b[0m \u001b[0ms\u001b[0m\u001b[0;34m.\u001b[0m\u001b[0mstartswith\u001b[0m\u001b[0;34m(\u001b[0m\u001b[0;34m'org.apache.spark.sql.catalyst.analysis'\u001b[0m\u001b[0;34m)\u001b[0m\u001b[0;34m:\u001b[0m\u001b[0;34m\u001b[0m\u001b[0;34m\u001b[0m\u001b[0m\n\u001b[1;32m     71\u001b[0m                 \u001b[0;32mraise\u001b[0m \u001b[0mAnalysisException\u001b[0m\u001b[0;34m(\u001b[0m\u001b[0ms\u001b[0m\u001b[0;34m.\u001b[0m\u001b[0msplit\u001b[0m\u001b[0;34m(\u001b[0m\u001b[0;34m': '\u001b[0m\u001b[0;34m,\u001b[0m \u001b[0;36m1\u001b[0m\u001b[0;34m)\u001b[0m\u001b[0;34m[\u001b[0m\u001b[0;36m1\u001b[0m\u001b[0;34m]\u001b[0m\u001b[0;34m,\u001b[0m \u001b[0mstackTrace\u001b[0m\u001b[0;34m)\u001b[0m\u001b[0;34m\u001b[0m\u001b[0;34m\u001b[0m\u001b[0m\n",
            "\u001b[0;31mAnalysisException\u001b[0m: \"cannot resolve '`recorded_by`' given input columns: [source_type, public_meeting, management, quantity, scheme_management, source_class, num_private, funder, installer, id, extraction_type, date_recorded, population, payment_type, water_quality, district_code, region, extraction_type_group, wpt_name, extraction_type_class, status_group, waterpoint_type, subvillage, payment, quantity_group, waterpoint_type_group, quality_group, amount_tsh, construction_year, lga, latitude, basin, region_code, source, permit, scheme_name, gps_height, management_group, ward, longitude];;\\n'Aggregate ['recorded_by], ['recorded_by, count(1) AS count#26750L]\\n+- Project [id#8561, amount_tsh#8562, date_recorded#8563, funder#23562, gps_height#8565, installer#23896, longitude#8567, latitude#8568, wpt_name#24230, num_private#8570, basin#24564, subvillage#24898, region#25232, region_code#25566, district_code#25900, lga#26234, CASE WHEN ward#9512 IN (Kibingo,Shinghatini,Luchili,Ukune,Chiponda,Lusahunga,Kitura,Soni,Nyanguge,Mlowo,Lilambo,Kongolo,Masumbwe,Mngazi,Makata,Muhukuru,Saunyi,Manyoni,Tumbi,Segala,Igalula,Nkololo,Ovada,Moivo,Segera,Bashinet,Mhande,Nalasi,Murusagamba,Ubiri,Kalunde,Luswisi,Makurugusi,Sumbugu,Gendabi,Mtekente,Umwe,Ufana,Selela,Mtombozi,Lalago,Ludende,Ruhunga,Irole,Nkoanrua,Nanhyanga,Kate,Ifumbo,Itaba,Litembo,Mpondo,Ibumi,Kazunzu,Chilangala,Ilujamate,Chinugulu,Mandawa,Maramba,Ihowanza,Boma la ng'ombe,Nyamilama,Nandembo,Nakapanya,Kipanga,Mamba Kaskazini..."
          ]
        }
      ]
    },
    {
      "cell_type": "code",
      "metadata": {
        "colab": {
          "base_uri": "https://localhost:8080/"
        },
        "id": "R7q9SJkWy-IW",
        "outputId": "028abe30-2115-4dd7-a87c-b37900c47734"
      },
      "source": [
        "data.groupBy('population').count().orderBy('population').show()"
      ],
      "execution_count": 64,
      "outputs": [
        {
          "output_type": "stream",
          "name": "stdout",
          "text": [
            "+----------+-----+\n",
            "|population|count|\n",
            "+----------+-----+\n",
            "|         0|21381|\n",
            "|         1| 7025|\n",
            "|         2|    4|\n",
            "|         3|    4|\n",
            "|         4|   13|\n",
            "|         5|   44|\n",
            "|         6|   19|\n",
            "|         7|    3|\n",
            "|         8|   23|\n",
            "|         9|   11|\n",
            "|        10|  163|\n",
            "|        11|    7|\n",
            "|        12|   43|\n",
            "|        13|   12|\n",
            "|        14|   18|\n",
            "|        15|  193|\n",
            "|        16|    8|\n",
            "|        17|    6|\n",
            "|        18|   18|\n",
            "|        19|    3|\n",
            "+----------+-----+\n",
            "only showing top 20 rows\n",
            "\n"
          ]
        }
      ]
    },
    {
      "cell_type": "code",
      "metadata": {
        "colab": {
          "base_uri": "https://localhost:8080/"
        },
        "id": "7Tx9ooQny-Le",
        "outputId": "76d5cb2c-fcb3-4648-a723-45e60ce30faa"
      },
      "source": [
        "# making 0 and 1's category values to null\n",
        "\n",
        "data = data.withColumn('population', when(col('population') < 2, lit(None)).otherwise(col('population')))\n",
        "win = Window.partitionBy(data['district_code'])\n",
        "data = data.withColumn('population', when(col('population').isNull(), avg(data['population']).over(win)).otherwise(col('population')))\n",
        "data = data.withColumn('population', ceil(data['population']))\n",
        "data.groupBy('population').count().orderBy('population').show()"
      ],
      "execution_count": 65,
      "outputs": [
        {
          "output_type": "stream",
          "name": "stdout",
          "text": [
            "+----------+-----+\n",
            "|population|count|\n",
            "+----------+-----+\n",
            "|         2|    4|\n",
            "|         3|    4|\n",
            "|         4|   13|\n",
            "|         5|   44|\n",
            "|         6|   19|\n",
            "|         7|    3|\n",
            "|         8|   23|\n",
            "|         9|   11|\n",
            "|        10|  163|\n",
            "|        11|    7|\n",
            "|        12|   43|\n",
            "|        13|   12|\n",
            "|        14|   18|\n",
            "|        15|  193|\n",
            "|        16|    8|\n",
            "|        17|    6|\n",
            "|        18|   18|\n",
            "|        19|    3|\n",
            "|        20|  462|\n",
            "|        21|    3|\n",
            "+----------+-----+\n",
            "only showing top 20 rows\n",
            "\n"
          ]
        }
      ]
    },
    {
      "cell_type": "code",
      "metadata": {
        "id": "lr_Il8eRy-Or"
      },
      "source": [
        "# make visualization"
      ],
      "execution_count": 66,
      "outputs": []
    },
    {
      "cell_type": "code",
      "metadata": {
        "id": "O7AhbIAWy-SM"
      },
      "source": [
        "color_status = {'functional':'green', 'non functional': 'red', 'functional needs repair' :'blue'}"
      ],
      "execution_count": 67,
      "outputs": []
    },
    {
      "cell_type": "code",
      "metadata": {
        "id": "4OuRtRlFy-VL"
      },
      "source": [
        "cols = ['status_group', 'payment_type', 'longitude', 'latitude', 'gps_height']"
      ],
      "execution_count": 68,
      "outputs": []
    },
    {
      "cell_type": "code",
      "metadata": {
        "id": "_Cyjgsjty_FY"
      },
      "source": [
        "df = data.select(cols).toPandas()"
      ],
      "execution_count": 69,
      "outputs": []
    },
    {
      "cell_type": "code",
      "metadata": {
        "colab": {
          "base_uri": "https://localhost:8080/",
          "height": 331
        },
        "id": "Rtka7dh8y_I-",
        "outputId": "99f4a1b3-4894-4da8-e1c5-75a3159a9376"
      },
      "source": [
        "fig, ax = plt.subplots()\n",
        "sns.countplot(x='payment_type', hue = 'status_group', data=df, ax=ax, palette=color_status)\n",
        "plt.xticks(rotation=45)"
      ],
      "execution_count": 70,
      "outputs": [
        {
          "output_type": "execute_result",
          "data": {
            "text/plain": [
              "(array([0, 1, 2, 3, 4, 5, 6]), <a list of 7 Text major ticklabel objects>)"
            ]
          },
          "metadata": {},
          "execution_count": 70
        },
        {
          "output_type": "display_data",
          "data": {
            "image/png": "[encoded data removed]",
            "text/plain": [
              "<Figure size 432x288 with 1 Axes>"
            ]
          },
          "metadata": {
            "needs_background": "light"
          }
        }
      ]
    },
    {
      "cell_type": "code",
      "metadata": {
        "colab": {
          "base_uri": "https://localhost:8080/",
          "height": 505
        },
        "id": "CV8GlrMpy_MB",
        "outputId": "6d67f7d5-1ddb-4a86-873a-c3824a12ff31"
      },
      "source": [
        "fig.ax = plt.subplots(figsize=(12,8))\n",
        "sns.scatterplot(x='longitude', y='latitude', data=df, hue='status_group', ax=ax, palette=color_status)"
      ],
      "execution_count": 71,
      "outputs": [
        {
          "output_type": "execute_result",
          "data": {
            "text/plain": [
              "<matplotlib.axes._subplots.AxesSubplot at 0x7fe49ae774d0>"
            ]
          },
          "metadata": {},
          "execution_count": 71
        },
        {
          "output_type": "display_data",
          "data": {
            "image/png": "[encoded data removed]",
            "text/plain": [
              "<Figure size 864x576 with 1 Axes>"
            ]
          },
          "metadata": {
            "needs_background": "light"
          }
        }
      ]
    },
    {
      "cell_type": "code",
      "metadata": {
        "colab": {
          "base_uri": "https://localhost:8080/",
          "height": 646
        },
        "id": "fzxHFh8dy_PO",
        "outputId": "5d7d641a-5c44-42d6-fde1-8c9230a02fa6"
      },
      "source": [
        "row_functional = (df['status_group'] == 'functional')\n",
        "row_non_functional = (df['status_group'] == 'non functional')\n",
        "row_repair = (df['status_group'] == 'functional needs repair')\n",
        "col = 'gps_height'\n",
        "fig.ax = plt.subplots(figsize=(12,8))\n",
        "sns.distplot(df[col][row_functional], color = 'green', label='functional', ax=ax)\n",
        "sns.distplot(df[col][row_non_functional], color = 'red', label='non functional', ax=ax)\n",
        "sns.distplot(df[col][row_repair], color = 'blue', label='functional needs repair', ax=ax)\n",
        "plt.legend()"
      ],
      "execution_count": 72,
      "outputs": [
        {
          "output_type": "stream",
          "name": "stderr",
          "text": [
            "/usr/local/lib/python3.7/dist-packages/seaborn/distributions.py:2619: FutureWarning: `distplot` is a deprecated function and will be removed in a future version. Please adapt your code to use either `displot` (a figure-level function with similar flexibility) or `histplot` (an axes-level function for histograms).\n",
            "  warnings.warn(msg, FutureWarning)\n",
            "/usr/local/lib/python3.7/dist-packages/seaborn/distributions.py:2619: FutureWarning: `distplot` is a deprecated function and will be removed in a future version. Please adapt your code to use either `displot` (a figure-level function with similar flexibility) or `histplot` (an axes-level function for histograms).\n",
            "  warnings.warn(msg, FutureWarning)\n",
            "/usr/local/lib/python3.7/dist-packages/seaborn/distributions.py:2619: FutureWarning: `distplot` is a deprecated function and will be removed in a future version. Please adapt your code to use either `displot` (a figure-level function with similar flexibility) or `histplot` (an axes-level function for histograms).\n",
            "  warnings.warn(msg, FutureWarning)\n",
            "No handles with labels found to put in legend.\n"
          ]
        },
        {
          "output_type": "execute_result",
          "data": {
            "text/plain": [
              "<matplotlib.legend.Legend at 0x7fe497dbcf90>"
            ]
          },
          "metadata": {},
          "execution_count": 72
        },
        {
          "output_type": "display_data",
          "data": {
            "image/png": "[encoded data removed]",
            "text/plain": [
              "<Figure size 864x576 with 1 Axes>"
            ]
          },
          "metadata": {
            "needs_background": "light"
          }
        }
      ]
    },
    {
      "cell_type": "code",
      "metadata": {
        "id": "gyhuyQjTy_Si"
      },
      "source": [
        ""
      ],
      "execution_count": null,
      "outputs": []
    },
    {
      "cell_type": "code",
      "metadata": {
        "id": "lSpW6RNNy_Vy"
      },
      "source": [
        ""
      ],
      "execution_count": null,
      "outputs": []
    },
    {
      "cell_type": "code",
      "metadata": {
        "id": "hoSIjk0my_ZD"
      },
      "source": [
        ""
      ],
      "execution_count": null,
      "outputs": []
    },
    {
      "cell_type": "code",
      "metadata": {
        "id": "seyvC8xey_b9"
      },
      "source": [
        ""
      ],
      "execution_count": null,
      "outputs": []
    },
    {
      "cell_type": "markdown",
      "metadata": {
        "id": "5NLnNIcR3z3G"
      },
      "source": [
        "**And then, we'll take a look at the first 20 rows of one of the files**\n",
        "\n",
        "As mentioned earlier, `gunzip` is a decompression tool. The `-c` means to print out the result rather than write it to a file. The `|`, or pipe symbol, is used to pass the output of one command as the input to another command. In this case, we're using `head -20` to print the first 20 lines of the decompressed data.\n",
        "\n",
        "Make sure to take a look at the contents of the data and notice that the separator used in this file is a tab character rather than a more traditional comma. "
      ]
    },
    {
      "cell_type": "code",
      "metadata": {
        "id": "45574aapb4eX"
      },
      "source": [
        "!gunzip -c /tmp/netflix_titles_dirty_03.csv.gz | head -20"
      ],
      "execution_count": null,
      "outputs": []
    },
    {
      "cell_type": "markdown",
      "metadata": {
        "id": "tlIBIjOM39AS"
      },
      "source": [
        "## **Loading our initial DataFrame**\n",
        "\n",
        "Let's take a look at what Spark does with our data and see if it can properly parse the output. To do this, we'll first load the content into a DataFrame using the `spark.read.csv()` method. \n",
        "\n",
        "We'll pass in three arguments:\n",
        "\n",
        " - The path to the file(s)\n",
        " - An entry for `header=False`. Our files do not have a header row, so we must specify this or risk a data row being interpreted as a header.\n",
        " - The last argument we add is the `sep` option, which specifies the field separator. Often in CSV files this is a comma (`,`), but in our files it's a `\\t` or tab character.\n",
        "\n",
        "In our command, we'll be using the wildcard character, `*`, again to access all the files matching `/tmp/netflix_titles_dirty*.csv.gz` (ie, all the files we've downloaded thus far). Spark will handle associating all the files to the same dataframe. \n",
        "\n",
        "Depending on how familiar you are with Spark, you should note that this line does not actually read the contents of the files yet. This command is *lazy*, which means it's not executed until we request Spark to execute some type of analysis. This is a crucial point to understand how data processing behaves within Spark. "
      ]
    },
    {
      "cell_type": "code",
      "metadata": {
        "id": "uQ_z1ZFYb9AX"
      },
      "source": [
        "# Read csv file wiith spark.read_csv()\n"
      ],
      "execution_count": null,
      "outputs": []
    },
    {
      "cell_type": "markdown",
      "metadata": {
        "id": "lUFy-nit4fmP"
      },
      "source": [
        "## **Initial analysis**\n",
        "\n",
        "Let's look at the first 150 rows using the `.show()` method on the DataFrame. We'll pass in:\n",
        "\n",
        "- The number of rows to display (`150`)\n",
        "- Set the `truncate` option to `False` so we can see all the DataFrame columns and content.\n",
        "\n",
        "*Note: `.show()` is a Spark action, meaning that any previous lazy commands will now be executed prior to the actual action. Spark can also optimize these commands for best performance as needed.*\n",
        "\n"
      ]
    },
    {
      "cell_type": "code",
      "metadata": {
        "id": "0LjdckdCcCQR"
      },
      "source": [
        "# Show first 150 rows\n"
      ],
      "execution_count": null,
      "outputs": []
    },
    {
      "cell_type": "markdown",
      "metadata": {
        "id": "LGzPDicW4zUo"
      },
      "source": [
        "\n",
        "**Problem 1**: First column contains a mix of numeric and string data.\n",
        "\n",
        "\n",
        "We can also use the `.printSchema()` method to print the inferred schema associated with the data. Notice that we have 12 columns (which is expected based on our format information) but there are no column names, incorrect datatypes, and each field is nullable. *Note: `.printSchema()` is also a Spark action.*\n",
        "\n",
        "**Problem 2**: Column names are generic.\n",
        "\n",
        "**Problem 3**: All columns are typed as strings, but appear to contain various datatypes (also reference **problem 1**)"
      ]
    },
    {
      "cell_type": "code",
      "metadata": {
        "id": "THf1tctucd9h"
      },
      "source": [
        "# Print schema\n"
      ],
      "execution_count": null,
      "outputs": []
    },
    {
      "cell_type": "markdown",
      "metadata": {
        "id": "RXGTHdV75wUi"
      },
      "source": [
        "## **Bypassing the CSV interpeter**\n",
        "\n",
        "Our first few data rows look ok, but we can see that we have a few random rows even in our small sample. We know the first column should be an integer value but it looks like there are some values that do not meet this requirement. \n",
        "\n",
        "Let's run a `.count()` method on our dataframe to determine how many rows are present in the dataset, regardless of whether they're correct.\n"
      ]
    },
    {
      "cell_type": "code",
      "metadata": {
        "id": "eABNrdsfOzRR"
      },
      "source": [
        "# Count the number of rows\n",
        "\n"
      ],
      "execution_count": null,
      "outputs": []
    },
    {
      "cell_type": "markdown",
      "metadata": {
        "id": "zYuq7DGUPtSe"
      },
      "source": [
        " Let's run a quick select statement on the DataFrame to determine the makeup of the content. We'll use some methods from the `pyspark.sql.functions` module to help us determine this. We'll alias this module as `F` for simplicity.\n",
        "\n",
        "We're going to use the `F.col` method to find the column named `_c0` in our dataframe. We'll then chain the function `.cast(\"int\")` to attempt to change each entry from a string value to an integer one. We then use the `.isNotNull()` function to find only entries that are not null. This is passed to the the `.filter()` method on the dataframe to return only rows that meet this requirement. Finally we run the `.count()` method on the resulting dataframe to get the count of rows where the first column is an integer value.\n",
        "\n",
        "An example to filter a Spark dataframe named `df_1` with a column named `_c0` would be:\n",
        "\n",
        "```\n",
        "from pyspark.sql import functions as F\n",
        "\n",
        "df_1.filter(F.col(\"_c0\").cast(\"int\").isNotNull()).show()\n",
        "```\n"
      ]
    },
    {
      "cell_type": "code",
      "metadata": {
        "id": "uznFuRdDcwTM"
      },
      "source": [
        "# Import the Pyspark SQL helper functions\n",
        "\n",
        "\n",
        "# Determine how many rows have a column that converts properly to an integer value\n",
        "\n"
      ],
      "execution_count": null,
      "outputs": []
    },
    {
      "cell_type": "markdown",
      "metadata": {
        "id": "m7_8YXWoS59q"
      },
      "source": [
        "### **Spark is different**\n",
        "\n",
        "Depending on your background, you may be very confused as to what's going on right now. If you're used to pandas, you should know that Spark behaves similarly, but there are some significant differences.\n",
        "\n",
        "#### **Spark dataframes are immutable**\n",
        "- This means that once a dataframe is created, you cannot change the contents of the dataframe, you can only create a new one.\n",
        "- We won't cover why during this class, beyond mentioning that it makes a distributed system (such as Spark) much more manageable.\n",
        "- While you cannot change a dataframe, you can create a new one.\n",
        "- Dataframes in Spark are defined with various types of *transformations*. These are the *lazy* commands we mentioned earlier. You can think of them as a recipe, or set of commands that will be run at a given time. \n",
        "- Spark *actions* (such as `.count()`, `.show()`, `.write()`, among others) instantiate the dataframe, meaning that the data is processed and available within the dataframe.\n",
        "\n",
        "The important thing to note is that these `.filter()` commands are not changing our underlying dataframe - it's creating a new dataframe with the results of the `.filter()` operation and giving us the `.count()` of that. This is all done behind the scenes for you, but it's important to understand what Spark is doing underneath.\n",
        "\n",
        "### **Back to analysis**\n",
        "\n",
        "Now that we've determined there is a difference between the number of correct entries vs all entries (ie, take the full count and subtract the filtered dataframe), let's look at the rows that aren't coverting properly.\n",
        "\n",
        "We'll do the same as before, but this time we're going to use the `.isNull()` method to obtain only the rows that can't be cast to integers. We'll use the `.show()` method to see the content.\n",
        "\n",
        "*Note, this is only possible because Spark maintains an immutable dataframe. In our previous step, we created a new dataframe from our `.filter()` command, ran an action, and then Spark threw away the dataframe as we didn't assign it to a variable. We're going to now do the same type of operation on the original `titles_df` dataframe.*"
      ]
    },
    {
      "cell_type": "code",
      "metadata": {
        "id": "FM8wY72J7qnC"
      },
      "source": [
        "# Look at rows that don't convert properly\n"
      ],
      "execution_count": null,
      "outputs": []
    },
    {
      "cell_type": "markdown",
      "metadata": {
        "id": "jw0aLgc19Qok"
      },
      "source": [
        "*Data problems*:\n",
        "- **Problem 4**: Comment rows - These begin with a `#` character in the first column, and all other columns are null\n",
        "- **Problem 5**: Missing first column - We have few rows that reference `TV Show` or `Movie`, which should be the 2nd column.\n",
        "- **Problem 6**: Odd columns - There are a few rows included where the columns seem out of sync (ie, a content type in the ID field, dates in the wrong column, etc).\n",
        "\n",
        "We could fairly easily remove rows that match this pattern, but we're not entirely sure what to expect here. This is a common issue when trying to parse a large amount of data, be it in native Python, in Spark, or even with command-line tools. \n",
        "\n",
        "What we need to do is bypass most of the CSV parser's intelligence, but still load the content into a DataFrame. One way to do this is to modify an option on the CSV loader.\n",
        "\n",
        "# **CSV loading**\n",
        "\n",
        "Our initial import relies on the defaults for the CSV import mechanism. This typically assumes an actual comma-separated value file using `,` between fields and a normal row level terminator (ie, `\\r\\n`, `\\r`, `\\n`). While this often works well, it doesn't always handle ever data cleaning process you'd like, especially if you want to save the errant data for later examination.\n",
        "\n",
        "One way we can trick our CSV load is to specify a custom separator that we know does not exist within our dataset. As we used above, the option to do this is called `sep` and takes a single character to be used as the column separator. The separator cannot be an empty string so depending on your data, you may need to determine a character that is not used. For our purposes, let's use a curly brace, `{`, which is most likely not present in our data."
      ]
    },
    {
      "cell_type": "code",
      "metadata": {
        "id": "Vme6VYgc8UP7"
      },
      "source": [
        "# Load the files into a DataFrame with a single column\n"
      ],
      "execution_count": null,
      "outputs": []
    },
    {
      "cell_type": "code",
      "metadata": {
        "id": "CyTxTDhXART2"
      },
      "source": [
        "# Count rows\n"
      ],
      "execution_count": null,
      "outputs": []
    },
    {
      "cell_type": "code",
      "metadata": {
        "id": "JcsIM-2KBMzP"
      },
      "source": [
        "# Show header\n"
      ],
      "execution_count": null,
      "outputs": []
    },
    {
      "cell_type": "code",
      "metadata": {
        "id": "P0HJfU--BRm1"
      },
      "source": [
        "# Print schema\n",
        "\n"
      ],
      "execution_count": null,
      "outputs": []
    },
    {
      "cell_type": "markdown",
      "metadata": {
        "id": "Uyelt4SeaiHe"
      },
      "source": [
        "# **Q&A?**"
      ]
    },
    {
      "cell_type": "markdown",
      "metadata": {
        "id": "hSTcSJgEB-YK"
      },
      "source": [
        "# **Cleaning up our data**\n",
        "\n",
        "We know from some earlier analysis that we have comment rows in place (ie, rows that begin with a `#`). While Spark provides a DataFrame option to handle this automatically, let's consider what it would take to remove comment rows.\n",
        "\n",
        "We need to:\n",
        "\n",
        "- Determine if the column / line starts with a `#`\n",
        "- If so, filter these out to a new DataFrame\n",
        "\n",
        "There are many ways to accomplish this in Spark, but let's use a conceptually straight-forward option, `.startsWith()`."
      ]
    },
    {
      "cell_type": "code",
      "metadata": {
        "id": "Pny8lhMnBVsv"
      },
      "source": [
        "# Filter DataFrame and show rows that starts with #\n"
      ],
      "execution_count": null,
      "outputs": []
    },
    {
      "cell_type": "code",
      "metadata": {
        "id": "8GOHWXvmDhtu",
        "colab": {
          "base_uri": "https://localhost:8080/",
          "height": 34
        },
        "outputId": "ef392087-5e1c-452c-e6f0-53001e967392"
      },
      "source": [
        "# Count number of rows\n",
        "\n"
      ],
      "execution_count": null,
      "outputs": [
        {
          "output_type": "execute_result",
          "data": {
            "text/plain": [
              "47"
            ]
          },
          "metadata": {
            "tags": []
          },
          "execution_count": 17
        }
      ]
    },
    {
      "cell_type": "markdown",
      "metadata": {
        "id": "MurSx_92YsGv"
      },
      "source": [
        "We've determined that we have 47 rows that begin with a comment character. We can now easily filter these from our DataFrame as we do below. This resolves **Problem 4**.\n",
        "\n",
        "*Note: We're doing things in a more difficult fashion than is absolutely necessary to illustrate options. The Spark CSV reader has an option for a `comment` property, which actually defaults to skipping all rows starting with a `#` character. That said, it only supports a single character - consider if you were looking for multi-character options (ie, a // from C-style syntax). This feature is also only available in newer versions of Spark, where our method works in any of the 2.x Spark releases.*"
      ]
    },
    {
      "cell_type": "code",
      "metadata": {
        "id": "FnKLL42OXtkx"
      },
      "source": [
        "# Filter out comments\n",
        "\n"
      ],
      "execution_count": null,
      "outputs": []
    },
    {
      "cell_type": "code",
      "metadata": {
        "id": "MHbyFQt4aUag"
      },
      "source": [
        ""
      ],
      "execution_count": null,
      "outputs": []
    },
    {
      "cell_type": "markdown",
      "metadata": {
        "id": "2NRGmdeqa2L3"
      },
      "source": [
        "# **Checking column counts**\n",
        "\n",
        "Our next step for cleaning this dataset in Pyspark involves determining how many columns we should have in our dataset and take care of any outliers. We know from our earlier examination that the dataset should have 12 usable columns per row.\n",
        "\n",
        "First, let's determine how many columns are present in the data and add that as a column. We'll do this with a combination of:\n",
        "\n",
        "- `F.split()`: This acts similar to the Python `split()` method, splitting the contents of a dataframe column on a specified character into a Spark ArrayType column (ie, Spark's version of a list variable). \n",
        "- `F.size()`: Returns the size (length) of a Spark ArrayType column.\n",
        "- `.withColumn()`: Creates a new dataframe with a given column."
      ]
    },
    {
      "cell_type": "code",
      "metadata": {
        "id": "0mNCitULaWL7"
      },
      "source": [
        "# Add a column representing the total number of fields / columns\n",
        "\n"
      ],
      "execution_count": null,
      "outputs": []
    },
    {
      "cell_type": "code",
      "metadata": {
        "id": "Lv5MOxL_tuyw"
      },
      "source": [
        "# Show rows with a fieldcount > 12 (Note, select statement here isn't necessarily required - used to reorder the columns for easier viewing)\n"
      ],
      "execution_count": null,
      "outputs": []
    },
    {
      "cell_type": "code",
      "metadata": {
        "id": "Pl3Tz5rht5OC"
      },
      "source": [
        "# Check for any rows with fewer than 12 columns\n",
        "\n"
      ],
      "execution_count": null,
      "outputs": []
    },
    {
      "cell_type": "markdown",
      "metadata": {
        "id": "S71Avac6k1h3"
      },
      "source": [
        "**Problem 7**: Column counts do not match our expected schema."
      ]
    },
    {
      "cell_type": "code",
      "metadata": {
        "id": "YmqGCyxi7peV"
      },
      "source": [
        "# Save these to a separate dataframe for later analysis\n",
        "\n"
      ],
      "execution_count": null,
      "outputs": []
    },
    {
      "cell_type": "code",
      "metadata": {
        "id": "Ag8tZcQ68gzr"
      },
      "source": [
        "# Determine total number of \"bad\" rows\n"
      ],
      "execution_count": null,
      "outputs": []
    },
    {
      "cell_type": "markdown",
      "metadata": {
        "id": "FCDT2lN4laxn"
      },
      "source": [
        "We can now resolve **problems 5, 6, and 7** by accessing only the rows that have 12 columns present."
      ]
    },
    {
      "cell_type": "code",
      "metadata": {
        "id": "jR_BbSWA8ila"
      },
      "source": [
        "# Set the dataframe without the bad rows\n"
      ],
      "execution_count": null,
      "outputs": []
    },
    {
      "cell_type": "code",
      "metadata": {
        "id": "VkyXBTyv8phE"
      },
      "source": [
        "# How many current rows in dataframe?\n",
        "\n"
      ],
      "execution_count": null,
      "outputs": []
    },
    {
      "cell_type": "markdown",
      "metadata": {
        "id": "L_QN8__l81xh"
      },
      "source": [
        "# **Q&A**"
      ]
    },
    {
      "cell_type": "markdown",
      "metadata": {
        "id": "eYMSHgfk9ukp"
      },
      "source": [
        "# **More cleaning / prep**\n",
        "\n",
        "Now that we've removed rows that don't fit our basic formatting, let's continue on with making our dataframe more useful.\n",
        "\n",
        "First, let's create a new column that is a list (actually a Spark ArrayType column) containing all \"columns\" using the `pyspark.sql.functions.split` method. We'll call this `splitcolumn`."
      ]
    },
    {
      "cell_type": "code",
      "metadata": {
        "id": "FdV-yNUpAkr3"
      },
      "source": [
        "# Create a list of split strings as a new column named splitcolumn\n"
      ],
      "execution_count": null,
      "outputs": []
    },
    {
      "cell_type": "code",
      "metadata": {
        "id": "5ku9EWddB8Su"
      },
      "source": [
        "# View the contents\n"
      ],
      "execution_count": null,
      "outputs": []
    },
    {
      "cell_type": "markdown",
      "metadata": {
        "id": "BwUcLor4IggD"
      },
      "source": [
        "# **Creating typed columns**\n",
        "\n",
        "There are several ways to do this operation depending on your needs, but for this dataset we'll explicitly convert the strings in the ArrayType column (ie, a Spark list column) to actual dataframe columns. The `.getItem()` method returns the value at the specified index of the listcolumn (ie, of `splitcolumn`). \n",
        "\n",
        "Let's consider if we wanted to create a full dataframe from the following example dataframe (`df_1`):\n",
        "\n",
        "splitcolumn |\n",
        "---|\n",
        "[1,USA,North America]\n",
        "[2,France,Europe]\n",
        "[3,China,Asia]\n",
        "\n",
        "```\n",
        "df_1 = df_1.withColumn('country_id', df_1.splitcolumn.getItem(0).cast(IntegerType())\n",
        "df_1 = df_1.withColumn('country_name', df_1.splitcolumn.getItem(1))\n",
        "df_1 = df_1.withColumn('continent', df_1.splitcolumn.getItem(2))\n",
        "```\n",
        "\n",
        "This would give you a resulting dataframe of:\n",
        "\n",
        "splitcolumn | country_id | country_name | continent\n",
        "---|---|---|---\n",
        "[1,USA,North America]|1|USA|North America\n",
        "[2,France,Europe]|2|France|Europe\n",
        "[3,China,Asia]|3|China|Asia\n",
        "\n",
        "The `splitcolumn` is currently still present - we'll take care of that later on.\n",
        "\n",
        "Note that for `show_id` and `release_year`, we'll also use `.cast()` to specify them as integers rather than just strings. We also need to import the `IntegerType` from the `pyspark.sql.types` module to properly cast our data to an integer column in Spark.\n",
        "\n"
      ]
    },
    {
      "cell_type": "code",
      "metadata": {
        "id": "Roo0kxtlB-hz"
      },
      "source": [
        "from pyspark.sql.types import IntegerType\n",
        "\n",
        "# Create columns with specific data types using .getItem()\n"
      ],
      "execution_count": null,
      "outputs": []
    },
    {
      "cell_type": "markdown",
      "metadata": {
        "id": "LytioBfiJLvr"
      },
      "source": [
        "Let's now drop our columns that aren't needed anymore. These are `_c0` (the original single line string), `fieldcount`, and `splitcolumn`. You can drop these as a single column per entry, or a comma-separated set of column names."
      ]
    },
    {
      "cell_type": "code",
      "metadata": {
        "id": "feZwxQ8rC1MJ"
      },
      "source": [
        "# Drop original _c0 column\n",
        "\n"
      ],
      "execution_count": null,
      "outputs": []
    },
    {
      "cell_type": "markdown",
      "metadata": {
        "id": "7G_Zdg7EJq-i"
      },
      "source": [
        "Let's verify our content, check the row count, and then look at our schema."
      ]
    },
    {
      "cell_type": "code",
      "metadata": {
        "id": "eL_ewudgDKKt"
      },
      "source": [
        "# Showcase new DataFrame\n",
        "\n"
      ],
      "execution_count": null,
      "outputs": []
    },
    {
      "cell_type": "code",
      "metadata": {
        "id": "l-C2jZOZEnnr"
      },
      "source": [
        "# Count rows\n",
        "\n"
      ],
      "execution_count": null,
      "outputs": []
    },
    {
      "cell_type": "code",
      "metadata": {
        "id": "fti0um-RDRVp"
      },
      "source": [
        "# Print the schema\n",
        "\n"
      ],
      "execution_count": null,
      "outputs": []
    },
    {
      "cell_type": "markdown",
      "metadata": {
        "id": "d2W5ImNkJ3f8"
      },
      "source": [
        "# **Even more cleanup**\n",
        "\n",
        "With our last set of steps, we've successfully fixed our remaining **problems (1, 2, and 3)**. Now that we have a generally clean dataset, let's look for further issues.\n",
        "\n",
        "If we look at the distinct values available in the show `type` column, we see an issue. This is a categorical data column - collapsing the values in this column is a typical data cleaning issue."
      ]
    },
    {
      "cell_type": "code",
      "metadata": {
        "id": "YP9IzxLPFwBS"
      },
      "source": [
        "# Check out unique items in type column\n",
        "\n"
      ],
      "execution_count": null,
      "outputs": []
    },
    {
      "cell_type": "code",
      "metadata": {
        "id": "Nx7weVd1G33o"
      },
      "source": [
        "# Isolate rows where type is \"\"\n",
        "\n"
      ],
      "execution_count": null,
      "outputs": []
    },
    {
      "cell_type": "markdown",
      "metadata": {
        "id": "TW4sUhBMKt9v"
      },
      "source": [
        "You'll notice that we have 5 rows where the type is not specified when one should be. \n",
        "\n",
        "**Problem 8**: Invalid entry in a column - The type column should contain only `TV Show` or `Movie`, but it also contains an empty string value.\n",
        "\n",
        "\n",
        " We have a couple of options:\n",
        "\n",
        "- Drop the rows\n",
        "- Infer what the `type` is based on other content available in the dataset\n",
        "\n",
        "You could remove the problem rows using something like:\n",
        "\n",
        "```\n",
        "titles_cleaned_df = titles_cleaned_df.where('type == \"TV Show\" or type == \"Movie\"')\n",
        "```\n",
        "\n",
        "That feels a bit like cheating though - let's consider how else we could determine this largely automatically.\n",
        "\n",
        "If you look at the `duration` column, you'll notice that there are different meanings behind the entries. We have durations that contain the word *min* (minutes) or the word `Season` for seasons of the show. We can try to use these to properly set the `type` value for these rows.\n",
        "\n",
        "This problem is a bit tricky though as Spark does not have the concept of updating data within a column without jumping through several hoops. We can however work through this issue using a User Defined Function, or UDF.\n",
        "\n",
        "## **UDF**\n",
        "\n",
        "If you haven't worked with them before, a UDF is a Python function that gets applied to every row of a DataFrame. They are extremely flexible and can help us work through issues such as our current one.\n",
        "\n",
        "A UDF in Pyspark requires three things:\n",
        "\n",
        "1. **A Python function or callable**: This is the function that you want called when the UDF is run by Spark.\n",
        "2. **A UDF variable**: Defined by the `udf()` function, with the Python callable defined in #1, and the Spark return type.\n",
        "3. **A Spark transformation**: The UDF must be defined via a transformation (ie `.withColumn()`) to be applied to the dataframe.\n",
        "\n",
        "Consider the following dataframe `df_1`, containing a two fields, `a` and `b`\n",
        "\n",
        "a|b\n",
        "---|---\n",
        "1|2\n",
        "2|3\n",
        "3|4\n",
        "\n",
        "For illustration, let's say we want to use a UDF to define a new column, which is simply the value `a*b`, unless the value of `a` is `3`. If it is, then we want the value to be `0`.\n",
        "\n",
        "Let's define our function - taking two arguments, `a`, and `b`. \n",
        "\n",
        "```\n",
        "def multiply(a, b):\n",
        "  if a == 3:\n",
        "    return 0\n",
        "  else:\n",
        "    return a*b\n",
        "```\n",
        "\n",
        "Now, we need to define our UDF variable. We need to import `udf` from `pyspark.sql.functions`, and as we're returning an integer value, we need to import `IntegerType` from `pyspark.sql.types`. \n",
        "\n",
        "```\n",
        "from pyspark.sql.functions import udf\n",
        "from pyspark.sql.types import IntegerType\n",
        "\n",
        "udfMultiply = udf(multiply, IntegerType())\n",
        "```\n",
        "\n",
        "Note that the `udf` function only takes the name of the callable, not any arguments. Those are defined with our last step - defining a new column. \n",
        "\n",
        "```\n",
        "df_1 = df_1.withColumn('output', udfMultiply(F.col('a'), F.col('b')))\n",
        "```\n",
        "\n",
        "Note that in this instance we're using the `F.col` method to refer to the column. You could use any of the other valid Spark methods to specify a dataframe column (ie, `df_1.a`, `df_1['b']`, etc).\n",
        "\n",
        "Assuming we run a Spark action, such as `.show()`, we would get a dataframe with the following contents:\n",
        "\n",
        "a|b|output\n",
        "---|---|---\n",
        "1|2|2\n",
        "2|3|6\n",
        "3|4|0\n",
        "\n",
        "*Note this is a trivial example for illustration purposes - the same behavior would be much better implemented using assorted functions in the Spark libraries.*\n",
        "\n",
        "\n",
        "First, let's define our Python function that takes two arguments, a showtype (ie, *Movie*, *TV Show*, or other) and the showduration. Note that these are strings in this case. We'll check if the showtype is already a Movie or TV Show - if so, just return that value. Otherwise, we'll check if the showduration ends with *min*, indicating a Movie. If not, we'll specify it as a TV Show.\n"
      ]
    },
    {
      "cell_type": "code",
      "metadata": {
        "id": "m97hs-7qPCus"
      },
      "source": [
        "# Define the UDF callable\n"
      ],
      "execution_count": null,
      "outputs": []
    },
    {
      "cell_type": "markdown",
      "metadata": {
        "id": "PW5L773xQCfy"
      },
      "source": [
        "# **Define the UDF for Spark**\n",
        "\n",
        "Now we need to configure the UDF for Spark to access it accordingly."
      ]
    },
    {
      "cell_type": "code",
      "metadata": {
        "id": "3y7TpzkAQb8x"
      },
      "source": [
        "from pyspark.sql.functions import udf\n",
        "from pyspark.sql.types import StringType\n"
      ],
      "execution_count": null,
      "outputs": []
    },
    {
      "cell_type": "code",
      "metadata": {
        "id": "0sE7GaRVR7Tv"
      },
      "source": [
        "# Create a new derived column, passing in the appropriate values\n",
        "\n"
      ],
      "execution_count": null,
      "outputs": []
    },
    {
      "cell_type": "code",
      "metadata": {
        "id": "-eGdUm5ZSojy"
      },
      "source": [
        "# Show the rows where type is an empty string again, examining the derivedType\n"
      ],
      "execution_count": null,
      "outputs": []
    },
    {
      "cell_type": "code",
      "metadata": {
        "id": "w1Z923yGSt2q"
      },
      "source": [
        "# Drop the original type column and rename derviedType to type\n"
      ],
      "execution_count": null,
      "outputs": []
    },
    {
      "cell_type": "code",
      "metadata": {
        "id": "JW7Dtb-wHfs5"
      },
      "source": [
        "# Verify we only have two types available\n"
      ],
      "execution_count": null,
      "outputs": []
    },
    {
      "cell_type": "code",
      "metadata": {
        "id": "rXr5D8-4HkSR"
      },
      "source": [
        "# Verify our row count is the same\n"
      ],
      "execution_count": null,
      "outputs": []
    },
    {
      "cell_type": "markdown",
      "metadata": {
        "id": "Ks9eP6uMnUPe"
      },
      "source": [
        "We've now successfully resolved **problem 8**."
      ]
    },
    {
      "cell_type": "markdown",
      "metadata": {
        "id": "0KUVyBzLTZgN"
      },
      "source": [
        "# **Saving data for analysis / further processing**\n",
        "\n",
        "The last step of our data cleaning is to save the cleaned dataframe out to a file type. If you plan to do any further analysis or processing using Spark, it's highly recommended you use Parquet. Other options are available per your needs, but Spark is optimized to take advantage of Parquet.\n",
        "\n",
        "There are two options we use for the `.write.parquet()` method:\n",
        "\n",
        "- The path of where to write the file\n",
        "- An optional `mode` parameter, which we've set to `overwrite`. This allows Spark to write data to an existing location, solving some potential issues in a notebook environment."
      ]
    },
    {
      "cell_type": "code",
      "metadata": {
        "id": "inKlmeIfHnw9"
      },
      "source": [
        "# Save the data\n"
      ],
      "execution_count": null,
      "outputs": []
    },
    {
      "cell_type": "markdown",
      "metadata": {
        "id": "ay7w3C4iqRXp"
      },
      "source": [
        "Let's now take a look at the contents using the `ls` shell command. You'll notice that the `/tmp/netflix_titles_cleaned.parquet` location is actually a directory, not just a file. This is due to the way Spark handles its data allocation and formatting. More on this in a minute."
      ]
    },
    {
      "cell_type": "code",
      "metadata": {
        "id": "v5JnlKUzssau"
      },
      "source": [
        "# Is file in directory?\n"
      ],
      "execution_count": null,
      "outputs": []
    },
    {
      "cell_type": "markdown",
      "metadata": {
        "id": "KydUNbnYn-BQ"
      },
      "source": [
        "Note that typically when processing data in Spark, you'll want to use the Parquet format as described above. This is great for any further processing or analysis you plan to do in Spark. However, it can be difficult to read Parquet files outside of Spark without extra work. As such, let's create a version in CSV format that you can download if you desire.\n",
        "\n",
        "We'll need to do four steps for this operation:\n",
        "\n",
        "- Combine the data into a single file using the `.coalesce(1)` transformation. Spark normally keeps data in separate files to improve performance and bypass RAM issues. Our dataset is small and we can bypass those concerns.\n",
        "- Use the `.write.csv()` method (instead of `.write.parquet()`). We'll also add an extra option of `sep='\\t'` to bypass the issue of commas being present in our data. We also have to define a `header=True` component so our columns are named correctly.\n",
        "- Rename the file to something usable with a shell command `mv`. Spark stores files named via their partition id. We need to rename that to something more recognizable.\n",
        "- Finally, we'll use a special command specific to the notebook environment to download the file.\n",
        "\n",
        "As you've seen within Spark, you can chain commands together. As such, we'll combine the first two components."
      ]
    },
    {
      "cell_type": "code",
      "metadata": {
        "id": "Km2dxHXGp85h"
      },
      "source": [
        "# Coalesce and save the data in CSV format\n",
        "\n",
        "titles_cleaned_df.coalesce(1).write.csv('/tmp/netflix_titles_cleaned.csv', mode='overwrite', sep='\\t', header=True)"
      ],
      "execution_count": null,
      "outputs": []
    },
    {
      "cell_type": "code",
      "metadata": {
        "id": "AvadihO-qnNF",
        "colab": {
          "base_uri": "https://localhost:8080/",
          "height": 34
        },
        "outputId": "9f48b025-f373-449f-9558-617b87a0d6cf"
      },
      "source": [
        "# Look at the output of the command using the shell command `ls`\n",
        "\n",
        "!ls /tmp/netflix_titles_cleaned.csv"
      ],
      "execution_count": null,
      "outputs": [
        {
          "output_type": "stream",
          "text": [
            "part-00000-5f404d8b-c020-478e-856d-76999184e063-c000.csv  _SUCCESS\n"
          ],
          "name": "stdout"
        }
      ]
    },
    {
      "cell_type": "code",
      "metadata": {
        "id": "TCZMYcOKq2VX"
      },
      "source": [
        "# Rename the data file\n",
        "\n",
        "!mv /tmp/netflix_titles_cleaned.csv/part-00000*.csv /tmp/netflix_titles_cleaned_final.csv"
      ],
      "execution_count": null,
      "outputs": []
    },
    {
      "cell_type": "code",
      "metadata": {
        "id": "qMaWUVGIrIWT"
      },
      "source": [
        "# Download the file via notebook tools\n",
        "\n",
        "from google.colab import files\n",
        "files.download('/tmp/netflix_titles_cleaned_final.csv')"
      ],
      "execution_count": null,
      "outputs": []
    },
    {
      "cell_type": "markdown",
      "metadata": {
        "id": "LMJO9w_xUDAh"
      },
      "source": [
        "# **Challenges**\n",
        "\n",
        "We've looked at several data cleaning operations using Spark. Here are some other challenges to consider within the dataset:\n",
        "\n",
        "1) *Splitting names* - \n",
        "  You may have noticed that the names are combined for the cast and directors into a list. Consider how you would turn that data into a list / array column to easily access more detailed information (which shows have the largest cast, etc?)\n",
        "\n",
        "2) *Splitting names further* - Consider taking any of the name fields and splitting it into first name, last name, etc. Take special consideration about how you would handle initials, names with more than 3 components, etc.\n",
        "\n",
        "3) *Parsing dates* - Look at the `date_added` field and determine if and how you could reliably convert this to an actual datetime field.\n",
        "\n",
        "# **Last Q&A**"
      ]
    }
  ]
}