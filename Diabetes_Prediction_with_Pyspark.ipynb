{
  "nbformat": 4,
  "nbformat_minor": 0,
  "metadata": {
    "colab": {
      "name": "Diabetes Prediction with Pyspark.ipynb",
      "provenance": [],
      "collapsed_sections": [],
      "authorship_tag": "ABX9TyPSJPGbrXl8S+T3P0fonGec",
      "include_colab_link": true
    },
    "kernelspec": {
      "name": "python3",
      "display_name": "Python 3"
    },
    "language_info": {
      "name": "python"
    }
  },
  "cells": [
    {
      "cell_type": "markdown",
      "metadata": {
        "id": "view-in-github",
        "colab_type": "text"
      },
      "source": [
        "<a href=\"https://colab.research.google.com/github/darkfish619/Data-scrapping-Wrangling/blob/master/Diabetes_Prediction_with_Pyspark.ipynb\" target=\"_parent\"><img src=\"https://colab.research.google.com/assets/colab-badge.svg\" alt=\"Open In Colab\"/></a>"
      ]
    },
    {
      "cell_type": "code",
      "metadata": {
        "colab": {
          "base_uri": "https://localhost:8080/"
        },
        "id": "tTWYLS_Myx7D",
        "outputId": "3a963b56-e290-4bf8-a7f3-ffd87c1e34f8"
      },
      "source": [
        "# install pyspark\n",
        "\n",
        "! pip install pyspark\n",
        "\n"
      ],
      "execution_count": 1,
      "outputs": [
        {
          "output_type": "stream",
          "name": "stdout",
          "text": [
            "Collecting pyspark\n",
            "  Downloading pyspark-3.2.0.tar.gz (281.3 MB)\n",
            "\u001b[K     |████████████████████████████████| 281.3 MB 53 kB/s \n",
            "\u001b[?25hCollecting py4j==0.10.9.2\n",
            "  Downloading py4j-0.10.9.2-py2.py3-none-any.whl (198 kB)\n",
            "\u001b[K     |████████████████████████████████| 198 kB 68.4 MB/s \n",
            "\u001b[?25hBuilding wheels for collected packages: pyspark\n",
            "  Building wheel for pyspark (setup.py) ... \u001b[?25l\u001b[?25hdone\n",
            "  Created wheel for pyspark: filename=pyspark-3.2.0-py2.py3-none-any.whl size=281805912 sha256=75452b72bfc5dcf1580e855d5a3785d306509e8e48ce59f92e22b2eece01a74b\n",
            "  Stored in directory: /root/.cache/pip/wheels/0b/de/d2/9be5d59d7331c6c2a7c1b6d1a4f463ce107332b1ecd4e80718\n",
            "Successfully built pyspark\n",
            "Installing collected packages: py4j, pyspark\n",
            "Successfully installed py4j-0.10.9.2 pyspark-3.2.0\n"
          ]
        }
      ]
    },
    {
      "cell_type": "code",
      "metadata": {
        "id": "ulZrn05yz4zu"
      },
      "source": [
        "# Create a sparksession\n",
        "\n",
        "from pyspark.sql import SparkSession\n",
        "\n",
        "sc = SparkSession.builder.appName('spark').getOrCreate()   # it get the adjusting spark session\n",
        "\n"
      ],
      "execution_count": 2,
      "outputs": []
    },
    {
      "cell_type": "code",
      "metadata": {
        "id": "RCT3Su2d0Zht"
      },
      "source": [
        "# Task 2. Clone & Explore datset"
      ],
      "execution_count": 3,
      "outputs": []
    },
    {
      "cell_type": "code",
      "metadata": {
        "colab": {
          "base_uri": "https://localhost:8080/"
        },
        "id": "8mqDXEZm0nAc",
        "outputId": "83a4ad5c-ef13-456c-b0e5-26e7a8f379f7"
      },
      "source": [
        "# clone from github\n",
        "\n",
        "! git clone https://github.com/education454/diabetes_dataset"
      ],
      "execution_count": 4,
      "outputs": [
        {
          "output_type": "stream",
          "name": "stdout",
          "text": [
            "Cloning into 'diabetes_dataset'...\n",
            "remote: Enumerating objects: 6, done.\u001b[K\n",
            "remote: Counting objects: 100% (6/6), done.\u001b[K\n",
            "remote: Compressing objects: 100% (5/5), done.\u001b[K\n",
            "remote: Total 6 (delta 0), reused 0 (delta 0), pack-reused 0\u001b[K\n",
            "Unpacking objects: 100% (6/6), done.\n"
          ]
        }
      ]
    },
    {
      "cell_type": "code",
      "metadata": {
        "colab": {
          "base_uri": "https://localhost:8080/"
        },
        "id": "ryMfBDAl0zJt",
        "outputId": "3e84f56e-a52f-49e6-b1f5-d4108d860cb8"
      },
      "source": [
        "# Check if the dataset exists\n",
        "\n",
        "! ls diabetes_dataset"
      ],
      "execution_count": 6,
      "outputs": [
        {
          "output_type": "stream",
          "name": "stdout",
          "text": [
            "diabetes.csv  new_test.csv\n"
          ]
        }
      ]
    },
    {
      "cell_type": "code",
      "metadata": {
        "colab": {
          "base_uri": "https://localhost:8080/"
        },
        "id": "N7mZrKtm03ue",
        "outputId": "de941d1f-cb38-43c2-a94e-eb86269d4ddd"
      },
      "source": [
        "# Create spark dataframe / Spark dataframe are immutable\n",
        "## inferSchema automatically a=identify the data types\n",
        "\n",
        "df = sc.read.csv(\"/content/diabetes_dataset/diabetes.csv\", header=True, inferSchema=True)  \n",
        "df.show()"
      ],
      "execution_count": 8,
      "outputs": [
        {
          "output_type": "stream",
          "name": "stdout",
          "text": [
            "+-----------+-------+-------------+-------------+-------+----+------------------------+---+-------+\n",
            "|Pregnancies|Glucose|BloodPressure|SkinThickness|Insulin| BMI|DiabetesPedigreeFunction|Age|Outcome|\n",
            "+-----------+-------+-------------+-------------+-------+----+------------------------+---+-------+\n",
            "|          2|    138|           62|           35|      0|33.6|                   0.127| 47|      1|\n",
            "|          0|     84|           82|           31|    125|38.2|                   0.233| 23|      0|\n",
            "|          0|    145|            0|            0|      0|44.2|                    0.63| 31|      1|\n",
            "|          0|    135|           68|           42|    250|42.3|                   0.365| 24|      1|\n",
            "|          1|    139|           62|           41|    480|40.7|                   0.536| 21|      0|\n",
            "|          0|    173|           78|           32|    265|46.5|                   1.159| 58|      0|\n",
            "|          4|     99|           72|           17|      0|25.6|                   0.294| 28|      0|\n",
            "|          8|    194|           80|            0|      0|26.1|                   0.551| 67|      0|\n",
            "|          2|     83|           65|           28|     66|36.8|                   0.629| 24|      0|\n",
            "|          2|     89|           90|           30|      0|33.5|                   0.292| 42|      0|\n",
            "|          4|     99|           68|           38|      0|32.8|                   0.145| 33|      0|\n",
            "|          4|    125|           70|           18|    122|28.9|                   1.144| 45|      1|\n",
            "|          3|     80|            0|            0|      0| 0.0|                   0.174| 22|      0|\n",
            "|          6|    166|           74|            0|      0|26.6|                   0.304| 66|      0|\n",
            "|          5|    110|           68|            0|      0|26.0|                   0.292| 30|      0|\n",
            "|          2|     81|           72|           15|     76|30.1|                   0.547| 25|      0|\n",
            "|          7|    195|           70|           33|    145|25.1|                   0.163| 55|      1|\n",
            "|          6|    154|           74|           32|    193|29.3|                   0.839| 39|      0|\n",
            "|          2|    117|           90|           19|     71|25.2|                   0.313| 21|      0|\n",
            "|          3|     84|           72|           32|      0|37.2|                   0.267| 28|      0|\n",
            "+-----------+-------+-------------+-------------+-------+----+------------------------+---+-------+\n",
            "only showing top 20 rows\n",
            "\n"
          ]
        }
      ]
    },
    {
      "cell_type": "code",
      "metadata": {
        "colab": {
          "base_uri": "https://localhost:8080/"
        },
        "id": "1aYdMUVO1fRF",
        "outputId": "007c2efd-4997-4f85-d708-c11a13e50341"
      },
      "source": [
        "# Print the schema\n",
        "\n",
        "df.printSchema()"
      ],
      "execution_count": 9,
      "outputs": [
        {
          "output_type": "stream",
          "name": "stdout",
          "text": [
            "root\n",
            " |-- Pregnancies: integer (nullable = true)\n",
            " |-- Glucose: integer (nullable = true)\n",
            " |-- BloodPressure: integer (nullable = true)\n",
            " |-- SkinThickness: integer (nullable = true)\n",
            " |-- Insulin: integer (nullable = true)\n",
            " |-- BMI: double (nullable = true)\n",
            " |-- DiabetesPedigreeFunction: double (nullable = true)\n",
            " |-- Age: integer (nullable = true)\n",
            " |-- Outcome: integer (nullable = true)\n",
            "\n"
          ]
        }
      ]
    },
    {
      "cell_type": "code",
      "metadata": {
        "colab": {
          "base_uri": "https://localhost:8080/"
        },
        "id": "M36lnMoZ1tq1",
        "outputId": "c52074e9-9738-4f87-b044-88af53f935f1"
      },
      "source": [
        "# Count total rows and column\n",
        "\n",
        "print(df.count(), len(df.columns))"
      ],
      "execution_count": 10,
      "outputs": [
        {
          "output_type": "stream",
          "name": "stdout",
          "text": [
            "2000 9\n"
          ]
        }
      ]
    },
    {
      "cell_type": "code",
      "metadata": {
        "colab": {
          "base_uri": "https://localhost:8080/"
        },
        "id": "smtBYIjb18Q8",
        "outputId": "f1d21cea-24ed-438d-af26-fcc7d9ec82b4"
      },
      "source": [
        "# Total number of patients of diabetes==1 vs non diabetes==0\n",
        "\n",
        "df.groupBy('Outcome').count().show()"
      ],
      "execution_count": 11,
      "outputs": [
        {
          "output_type": "stream",
          "name": "stdout",
          "text": [
            "+-------+-----+\n",
            "|Outcome|count|\n",
            "+-------+-----+\n",
            "|      1|  684|\n",
            "|      0| 1316|\n",
            "+-------+-----+\n",
            "\n"
          ]
        }
      ]
    },
    {
      "cell_type": "code",
      "metadata": {
        "colab": {
          "base_uri": "https://localhost:8080/"
        },
        "id": "AyVtJZdQ2K3n",
        "outputId": "77171307-3911-40a3-a59e-b641493c2759"
      },
      "source": [
        "# Get the stats\n",
        "\n",
        "df.describe().show()"
      ],
      "execution_count": 12,
      "outputs": [
        {
          "output_type": "stream",
          "name": "stdout",
          "text": [
            "+-------+-----------------+------------------+------------------+-----------------+-----------------+------------------+------------------------+------------------+------------------+\n",
            "|summary|      Pregnancies|           Glucose|     BloodPressure|    SkinThickness|          Insulin|               BMI|DiabetesPedigreeFunction|               Age|           Outcome|\n",
            "+-------+-----------------+------------------+------------------+-----------------+-----------------+------------------+------------------------+------------------+------------------+\n",
            "|  count|             2000|              2000|              2000|             2000|             2000|              2000|                    2000|              2000|              2000|\n",
            "|   mean|           3.7035|          121.1825|           69.1455|           20.935|           80.254|32.192999999999984|     0.47092999999999974|           33.0905|             0.342|\n",
            "| stddev|3.306063032730656|32.068635649902916|19.188314815604098|16.10324290992682|111.1805335457595| 8.149900701279762|      0.3235525586811429|11.786423106049496|0.4744982342297426|\n",
            "|    min|                0|                 0|                 0|                0|                0|               0.0|                   0.078|                21|                 0|\n",
            "|    max|               17|               199|               122|              110|              744|              80.6|                    2.42|                81|                 1|\n",
            "+-------+-----------------+------------------+------------------+-----------------+-----------------+------------------+------------------------+------------------+------------------+\n",
            "\n"
          ]
        }
      ]
    },
    {
      "cell_type": "code",
      "metadata": {
        "id": "zRgEQ-Tk2S72"
      },
      "source": [
        "# Task.3 Data cleaning & Preparation"
      ],
      "execution_count": 13,
      "outputs": []
    },
    {
      "cell_type": "code",
      "metadata": {
        "colab": {
          "base_uri": "https://localhost:8080/"
        },
        "id": "5AbVZb2L2kNA",
        "outputId": "39d3fc78-6f9b-4233-e789-2208ca0a085d"
      },
      "source": [
        "# Check null values\n",
        "\n",
        "for col in df.columns:\n",
        "  print(col+ \":\",df[df[col].isNull()].count())"
      ],
      "execution_count": 14,
      "outputs": [
        {
          "output_type": "stream",
          "name": "stdout",
          "text": [
            "Pregnancies: 0\n",
            "Glucose: 0\n",
            "BloodPressure: 0\n",
            "SkinThickness: 0\n",
            "Insulin: 0\n",
            "BMI: 0\n",
            "DiabetesPedigreeFunction: 0\n",
            "Age: 0\n",
            "Outcome: 0\n"
          ]
        }
      ]
    },
    {
      "cell_type": "code",
      "metadata": {
        "id": "Q7AVLs3H3GEp"
      },
      "source": [
        "# Look for the unnecessary values present\n",
        "\n",
        "def count_zeros():\n",
        "  columns_list = ['Glucose','BloodPressure','SkinThickness','Insulin','BMI']\n",
        "  for i in columns_list:\n",
        "    print(i+\":\",df[df[i]==0].count())  # total number of zeros present in above column"
      ],
      "execution_count": 15,
      "outputs": []
    },
    {
      "cell_type": "code",
      "metadata": {
        "colab": {
          "base_uri": "https://localhost:8080/"
        },
        "id": "D5wMfehO3vb8",
        "outputId": "0dd5ffa8-ffc1-4ec6-9bb1-11a2d4d74153"
      },
      "source": [
        "count_zeros()   # total of zero values in columns"
      ],
      "execution_count": 16,
      "outputs": [
        {
          "output_type": "stream",
          "name": "stdout",
          "text": [
            "Glucose: 13\n",
            "BloodPressure: 90\n",
            "SkinThickness: 573\n",
            "Insulin: 956\n",
            "BMI: 28\n"
          ]
        }
      ]
    },
    {
      "cell_type": "code",
      "metadata": {
        "colab": {
          "base_uri": "https://localhost:8080/"
        },
        "id": "xB4Z6XYJ3x4S",
        "outputId": "9c1ef077-921f-4aaa-e6db-a4260e72b865"
      },
      "source": [
        "# As insulin have almost 50% zero value\n",
        "\n",
        "# calculate and replace the zeros with the mean value\n",
        "\n",
        "from pyspark.sql.functions import *    # import all\n",
        "\n",
        "for i in df.columns[1:6]:    # from glucose to bmi\n",
        "  data = df.agg({i:'mean'}).first()[0]    #agg fn use over each col and get the mean value\n",
        "  print(\"mean value for {} is {}\" .format(i, int(data)))\n",
        "\n",
        "  # replace the 0's with the mean\n",
        "  df = df.withColumn(i,when(df[i]==0,int(data)).otherwise(df[i]))  # if col value is 0 replace with mean otherwise leave it as it is"
      ],
      "execution_count": 18,
      "outputs": [
        {
          "output_type": "stream",
          "name": "stdout",
          "text": [
            "mean value for Glucose is 121\n",
            "mean value for BloodPressure is 69\n",
            "mean value for SkinThickness is 20\n",
            "mean value for Insulin is 80\n",
            "mean value for BMI is 32\n"
          ]
        }
      ]
    },
    {
      "cell_type": "code",
      "metadata": {
        "colab": {
          "base_uri": "https://localhost:8080/"
        },
        "id": "w8oTKLyb4wxQ",
        "outputId": "323c1734-6d8a-4fd4-d87d-3e80ed314588"
      },
      "source": [
        "# display the df\n",
        "  # Now the zeros have benn replaced by the mean\n",
        "df.show()\n"
      ],
      "execution_count": 19,
      "outputs": [
        {
          "output_type": "stream",
          "name": "stdout",
          "text": [
            "+-----------+-------+-------------+-------------+-------+----+------------------------+---+-------+\n",
            "|Pregnancies|Glucose|BloodPressure|SkinThickness|Insulin| BMI|DiabetesPedigreeFunction|Age|Outcome|\n",
            "+-----------+-------+-------------+-------------+-------+----+------------------------+---+-------+\n",
            "|          2|    138|           62|           35|     80|33.6|                   0.127| 47|      1|\n",
            "|          0|     84|           82|           31|    125|38.2|                   0.233| 23|      0|\n",
            "|          0|    145|           69|           20|     80|44.2|                    0.63| 31|      1|\n",
            "|          0|    135|           68|           42|    250|42.3|                   0.365| 24|      1|\n",
            "|          1|    139|           62|           41|    480|40.7|                   0.536| 21|      0|\n",
            "|          0|    173|           78|           32|    265|46.5|                   1.159| 58|      0|\n",
            "|          4|     99|           72|           17|     80|25.6|                   0.294| 28|      0|\n",
            "|          8|    194|           80|           20|     80|26.1|                   0.551| 67|      0|\n",
            "|          2|     83|           65|           28|     66|36.8|                   0.629| 24|      0|\n",
            "|          2|     89|           90|           30|     80|33.5|                   0.292| 42|      0|\n",
            "|          4|     99|           68|           38|     80|32.8|                   0.145| 33|      0|\n",
            "|          4|    125|           70|           18|    122|28.9|                   1.144| 45|      1|\n",
            "|          3|     80|           69|           20|     80|32.0|                   0.174| 22|      0|\n",
            "|          6|    166|           74|           20|     80|26.6|                   0.304| 66|      0|\n",
            "|          5|    110|           68|           20|     80|26.0|                   0.292| 30|      0|\n",
            "|          2|     81|           72|           15|     76|30.1|                   0.547| 25|      0|\n",
            "|          7|    195|           70|           33|    145|25.1|                   0.163| 55|      1|\n",
            "|          6|    154|           74|           32|    193|29.3|                   0.839| 39|      0|\n",
            "|          2|    117|           90|           19|     71|25.2|                   0.313| 21|      0|\n",
            "|          3|     84|           72|           32|     80|37.2|                   0.267| 28|      0|\n",
            "+-----------+-------+-------------+-------------+-------+----+------------------------+---+-------+\n",
            "only showing top 20 rows\n",
            "\n"
          ]
        }
      ]
    },
    {
      "cell_type": "code",
      "metadata": {
        "id": "0uFZExnz5szU"
      },
      "source": [
        "#Task.4. Correlation Analysis & Feature Selection"
      ],
      "execution_count": 20,
      "outputs": []
    },
    {
      "cell_type": "code",
      "metadata": {
        "colab": {
          "base_uri": "https://localhost:8080/"
        },
        "id": "8LUN_E7N6MOC",
        "outputId": "743928c5-64ac-4a35-f950-09f6fab0a607"
      },
      "source": [
        "# Find the correlation among the set of input & output variables\n",
        "# iterate over each columns\n",
        "\n",
        "for i in df.columns:\n",
        "  print('Correlation to outcome for {} is {}'.format(i,df.stat.corr('Outcome',i)))\n",
        "\n",
        "# First argumnets is input column which is outcome and the 2nd argumnets is the input columns which is i"
      ],
      "execution_count": 23,
      "outputs": [
        {
          "output_type": "stream",
          "name": "stdout",
          "text": [
            "Correlation to outcome for Pregnancies is 0.22443699263363961\n",
            "Correlation to outcome for Glucose is 0.48796646527321064\n",
            "Correlation to outcome for BloodPressure is 0.17171333286446713\n",
            "Correlation to outcome for SkinThickness is 0.1659010662889893\n",
            "Correlation to outcome for Insulin is 0.1711763270226193\n",
            "Correlation to outcome for BMI is 0.2827927569760082\n",
            "Correlation to outcome for DiabetesPedigreeFunction is 0.1554590791569403\n",
            "Correlation to outcome for Age is 0.23650924717620253\n",
            "Correlation to outcome for Outcome is 1.0\n"
          ]
        }
      ]
    },
    {
      "cell_type": "code",
      "metadata": {
        "id": "gu6Hd2xc6qCN"
      },
      "source": [
        "# As there are no highly correalted values so we will keep all the colmns\n",
        "\n",
        "# feature selection\n",
        "\n",
        "from pyspark.ml.feature import VectorAssembler   # We need to apply vectorassembler, which it is a feature transformer that merges \n",
        "                                                # multiple columns into a vector columns\n",
        "\n",
        "assembler = VectorAssembler(inputCols=['Pregnancies','Glucose','BloodPressure','SkinThickness','Insulin','BMI','DiabetesPedigreeFunction','Age'],outputCol='features')\n",
        "\n",
        "# We have converted all the columns into a single vector column  'features'\n",
        "output_data = assembler.transform(df)"
      ],
      "execution_count": 25,
      "outputs": []
    },
    {
      "cell_type": "code",
      "metadata": {
        "colab": {
          "base_uri": "https://localhost:8080/"
        },
        "id": "zsLNcpEP8cFj",
        "outputId": "5e5b7393-e4fe-43b7-e405-18003a2b4a56"
      },
      "source": [
        "# Print the schema\n",
        "\n",
        "output_data.printSchema()"
      ],
      "execution_count": 26,
      "outputs": [
        {
          "output_type": "stream",
          "name": "stdout",
          "text": [
            "root\n",
            " |-- Pregnancies: integer (nullable = true)\n",
            " |-- Glucose: integer (nullable = true)\n",
            " |-- BloodPressure: integer (nullable = true)\n",
            " |-- SkinThickness: integer (nullable = true)\n",
            " |-- Insulin: integer (nullable = true)\n",
            " |-- BMI: double (nullable = true)\n",
            " |-- DiabetesPedigreeFunction: double (nullable = true)\n",
            " |-- Age: integer (nullable = true)\n",
            " |-- Outcome: integer (nullable = true)\n",
            " |-- features: vector (nullable = true)\n",
            "\n"
          ]
        }
      ]
    },
    {
      "cell_type": "code",
      "metadata": {
        "colab": {
          "base_uri": "https://localhost:8080/"
        },
        "id": "HljqGrOS8usY",
        "outputId": "c3fa2bf2-cb12-4cdc-c2a8-6157650a0c6a"
      },
      "source": [
        "# display output data\n",
        "\n",
        "output_data.show()"
      ],
      "execution_count": 27,
      "outputs": [
        {
          "output_type": "stream",
          "name": "stdout",
          "text": [
            "+-----------+-------+-------------+-------------+-------+----+------------------------+---+-------+--------------------+\n",
            "|Pregnancies|Glucose|BloodPressure|SkinThickness|Insulin| BMI|DiabetesPedigreeFunction|Age|Outcome|            features|\n",
            "+-----------+-------+-------------+-------------+-------+----+------------------------+---+-------+--------------------+\n",
            "|          2|    138|           62|           35|     80|33.6|                   0.127| 47|      1|[2.0,138.0,62.0,3...|\n",
            "|          0|     84|           82|           31|    125|38.2|                   0.233| 23|      0|[0.0,84.0,82.0,31...|\n",
            "|          0|    145|           69|           20|     80|44.2|                    0.63| 31|      1|[0.0,145.0,69.0,2...|\n",
            "|          0|    135|           68|           42|    250|42.3|                   0.365| 24|      1|[0.0,135.0,68.0,4...|\n",
            "|          1|    139|           62|           41|    480|40.7|                   0.536| 21|      0|[1.0,139.0,62.0,4...|\n",
            "|          0|    173|           78|           32|    265|46.5|                   1.159| 58|      0|[0.0,173.0,78.0,3...|\n",
            "|          4|     99|           72|           17|     80|25.6|                   0.294| 28|      0|[4.0,99.0,72.0,17...|\n",
            "|          8|    194|           80|           20|     80|26.1|                   0.551| 67|      0|[8.0,194.0,80.0,2...|\n",
            "|          2|     83|           65|           28|     66|36.8|                   0.629| 24|      0|[2.0,83.0,65.0,28...|\n",
            "|          2|     89|           90|           30|     80|33.5|                   0.292| 42|      0|[2.0,89.0,90.0,30...|\n",
            "|          4|     99|           68|           38|     80|32.8|                   0.145| 33|      0|[4.0,99.0,68.0,38...|\n",
            "|          4|    125|           70|           18|    122|28.9|                   1.144| 45|      1|[4.0,125.0,70.0,1...|\n",
            "|          3|     80|           69|           20|     80|32.0|                   0.174| 22|      0|[3.0,80.0,69.0,20...|\n",
            "|          6|    166|           74|           20|     80|26.6|                   0.304| 66|      0|[6.0,166.0,74.0,2...|\n",
            "|          5|    110|           68|           20|     80|26.0|                   0.292| 30|      0|[5.0,110.0,68.0,2...|\n",
            "|          2|     81|           72|           15|     76|30.1|                   0.547| 25|      0|[2.0,81.0,72.0,15...|\n",
            "|          7|    195|           70|           33|    145|25.1|                   0.163| 55|      1|[7.0,195.0,70.0,3...|\n",
            "|          6|    154|           74|           32|    193|29.3|                   0.839| 39|      0|[6.0,154.0,74.0,3...|\n",
            "|          2|    117|           90|           19|     71|25.2|                   0.313| 21|      0|[2.0,117.0,90.0,1...|\n",
            "|          3|     84|           72|           32|     80|37.2|                   0.267| 28|      0|[3.0,84.0,72.0,32...|\n",
            "+-----------+-------+-------------+-------------+-------+----+------------------------+---+-------+--------------------+\n",
            "only showing top 20 rows\n",
            "\n"
          ]
        }
      ]
    },
    {
      "cell_type": "code",
      "metadata": {
        "id": "YAMNHFk_8314"
      },
      "source": [
        "# Task.5. Split the datset & build the Model\n"
      ],
      "execution_count": 28,
      "outputs": []
    },
    {
      "cell_type": "code",
      "metadata": {
        "id": "0s-Hpz3S9HiG"
      },
      "source": [
        "# Create final data\n",
        "## Logistic give highest accuracy for binary classification\n",
        "\n",
        "from pyspark.ml.classification import LogisticRegression\n",
        "\n",
        "final_data = output_data.select('features','outcome')  # selecting the input and output columns\n"
      ],
      "execution_count": 29,
      "outputs": []
    },
    {
      "cell_type": "code",
      "metadata": {
        "colab": {
          "base_uri": "https://localhost:8080/"
        },
        "id": "bBXQf5ZQ9vmT",
        "outputId": "52ba07b4-8c21-4701-9ba3-6b8cf6da8f6d"
      },
      "source": [
        "# Print the schema\n",
        "\n",
        "final_data.printSchema()"
      ],
      "execution_count": 30,
      "outputs": [
        {
          "output_type": "stream",
          "name": "stdout",
          "text": [
            "root\n",
            " |-- features: vector (nullable = true)\n",
            " |-- outcome: integer (nullable = true)\n",
            "\n"
          ]
        }
      ]
    },
    {
      "cell_type": "code",
      "metadata": {
        "id": "3RTZIkQ39zIw"
      },
      "source": [
        "# Split the data into , build the model\n",
        "\n",
        "train, test = final_data.randomSplit([0.7,0.3])     # 70:30 ration \n",
        "\n",
        "# create model\n",
        "\n",
        "models = LogisticRegression(labelCol='outcome')  # outcome is label column\n",
        "\n",
        "model = models.fit(train)   #train data has been created with final data with 70 with train and 30% with test"
      ],
      "execution_count": 31,
      "outputs": []
    },
    {
      "cell_type": "code",
      "metadata": {
        "colab": {
          "base_uri": "https://localhost:8080/"
        },
        "id": "qa03_k9w-jnZ",
        "outputId": "75ee0b88-9ac0-44c2-88a2-a06fbe1f1981"
      },
      "source": [
        "# Summary of the model\n",
        "\n",
        "summary = model.summary\n",
        "\n",
        "summary.predictions.describe().show()"
      ],
      "execution_count": 32,
      "outputs": [
        {
          "output_type": "stream",
          "name": "stderr",
          "text": [
            "/usr/local/lib/python3.7/dist-packages/pyspark/sql/context.py:127: FutureWarning: Deprecated in 3.0.0. Use SparkSession.builder.getOrCreate() instead.\n",
            "  FutureWarning\n"
          ]
        },
        {
          "output_type": "stream",
          "name": "stdout",
          "text": [
            "+-------+-------------------+-------------------+\n",
            "|summary|            outcome|         prediction|\n",
            "+-------+-------------------+-------------------+\n",
            "|  count|               1362|               1362|\n",
            "|   mean|0.34801762114537443| 0.2709251101321586|\n",
            "| stddev|0.47651660324132755|0.44460074995832793|\n",
            "|    min|                0.0|                0.0|\n",
            "|    max|                1.0|                1.0|\n",
            "+-------+-------------------+-------------------+\n",
            "\n"
          ]
        }
      ]
    },
    {
      "cell_type": "code",
      "metadata": {
        "id": "rMlISqMW-v6-"
      },
      "source": [
        "# Task.6. Evaluate and Save the Model"
      ],
      "execution_count": 33,
      "outputs": []
    },
    {
      "cell_type": "code",
      "metadata": {
        "id": "enK1_Pjq-6oh"
      },
      "source": [
        "from pyspark.ml.evaluation import BinaryClassificationEvaluator\n",
        "\n",
        "predictions = model.evaluate(test)    # evalutiong with the test data"
      ],
      "execution_count": 34,
      "outputs": []
    },
    {
      "cell_type": "code",
      "metadata": {
        "colab": {
          "base_uri": "https://localhost:8080/"
        },
        "id": "yB8mbX0-_Rvd",
        "outputId": "7a5c18ce-c762-4853-e375-65f14b974f3b"
      },
      "source": [
        "predictions.predictions.show(20)\n",
        "\n"
      ],
      "execution_count": 35,
      "outputs": [
        {
          "output_type": "stream",
          "name": "stderr",
          "text": [
            "/usr/local/lib/python3.7/dist-packages/pyspark/sql/context.py:127: FutureWarning: Deprecated in 3.0.0. Use SparkSession.builder.getOrCreate() instead.\n",
            "  FutureWarning\n"
          ]
        },
        {
          "output_type": "stream",
          "name": "stdout",
          "text": [
            "+--------------------+-------+--------------------+--------------------+----------+\n",
            "|            features|outcome|       rawPrediction|         probability|prediction|\n",
            "+--------------------+-------+--------------------+--------------------+----------+\n",
            "|[0.0,73.0,69.0,20...|      0|[4.36044238559781...|[0.98738834935813...|       0.0|\n",
            "|[0.0,74.0,52.0,10...|      0|[3.87405602372724...|[0.97964883512597...|       0.0|\n",
            "|[0.0,74.0,52.0,10...|      0|[3.87405602372724...|[0.97964883512597...|       0.0|\n",
            "|[0.0,78.0,88.0,29...|      0|[2.79974842064439...|[0.94266222771291...|       0.0|\n",
            "|[0.0,84.0,64.0,22...|      0|[2.58475159561349...|[0.92987374741549...|       0.0|\n",
            "|[0.0,84.0,64.0,22...|      0|[2.58475159561349...|[0.92987374741549...|       0.0|\n",
            "|[0.0,84.0,64.0,22...|      0|[2.58475159561349...|[0.92987374741549...|       0.0|\n",
            "|[0.0,84.0,82.0,31...|      0|[2.75039641848450...|[0.93993573414941...|       0.0|\n",
            "|[0.0,84.0,82.0,31...|      0|[2.75039641848450...|[0.93993573414941...|       0.0|\n",
            "|[0.0,91.0,68.0,32...|      0|[2.28742789343413...|[0.90783045644749...|       0.0|\n",
            "|[0.0,91.0,80.0,20...|      0|[2.59396612848608...|[0.93047223893605...|       0.0|\n",
            "|[0.0,93.0,60.0,20...|      0|[2.51491377248215...|[0.92518073985668...|       0.0|\n",
            "|[0.0,93.0,100.0,3...|      0|[0.98564593207700...|[0.72822705508526...|       0.0|\n",
            "|[0.0,93.0,100.0,3...|      0|[0.98564593207700...|[0.72822705508526...|       0.0|\n",
            "|[0.0,94.0,69.0,20...|      0|[2.78526535703439...|[0.94187437870975...|       0.0|\n",
            "|[0.0,94.0,69.0,20...|      0|[2.78526535703439...|[0.94187437870975...|       0.0|\n",
            "|[0.0,95.0,64.0,39...|      0|[1.45619376985221...|[0.81094983139799...|       0.0|\n",
            "|[0.0,95.0,80.0,45...|      0|[2.02300468540974...|[0.88319134275137...|       0.0|\n",
            "|[0.0,95.0,80.0,45...|      0|[2.02300468540974...|[0.88319134275137...|       0.0|\n",
            "|[0.0,95.0,80.0,45...|      0|[2.02300468540974...|[0.88319134275137...|       0.0|\n",
            "+--------------------+-------+--------------------+--------------------+----------+\n",
            "only showing top 20 rows\n",
            "\n"
          ]
        }
      ]
    },
    {
      "cell_type": "code",
      "metadata": {
        "colab": {
          "base_uri": "https://localhost:8080/"
        },
        "id": "vCFaeBfk_W1i",
        "outputId": "825471a5-eaf0-4db1-b2eb-8070420f6b9f"
      },
      "source": [
        "# Evaluate our model\n",
        "\n",
        "evaluator = BinaryClassificationEvaluator(rawPredictionCol='rawPrediction',labelCol='outcome')\n",
        "evaluator.evaluate(model.transform(test))     #Predicting on test data"
      ],
      "execution_count": 37,
      "outputs": [
        {
          "output_type": "execute_result",
          "data": {
            "text/plain": [
              "0.8241544281263907"
            ]
          },
          "metadata": {},
          "execution_count": 37
        }
      ]
    },
    {
      "cell_type": "code",
      "metadata": {
        "id": "wC_LEMOhASMJ"
      },
      "source": [
        "# Saving the model\n",
        "\n",
        "model.save('diabetes_model')"
      ],
      "execution_count": 42,
      "outputs": []
    },
    {
      "cell_type": "code",
      "metadata": {
        "id": "IzmtMJHlAeLa"
      },
      "source": [
        " # Load savel model back to the enviornment\n",
        "\n",
        " from pyspark.ml.classification import LogisticRegressionModel\n",
        "\n",
        " model = LogisticRegressionModel.load('diabetes_model')"
      ],
      "execution_count": 43,
      "outputs": []
    },
    {
      "cell_type": "code",
      "metadata": {
        "id": "WyLBkJK2BhjL"
      },
      "source": [
        "# Task.7. Prediction on New Data with the saved model"
      ],
      "execution_count": 44,
      "outputs": []
    },
    {
      "cell_type": "code",
      "metadata": {
        "id": "yvELBC7MAzrM"
      },
      "source": [
        "# Create a new dataframe\n",
        "\n",
        "new_df = sc.read.csv('/content/diabetes_dataset/new_test.csv', header=True, inferSchema=True)\n"
      ],
      "execution_count": 45,
      "outputs": []
    },
    {
      "cell_type": "code",
      "metadata": {
        "colab": {
          "base_uri": "https://localhost:8080/"
        },
        "id": "oi9kJX5YB4x2",
        "outputId": "33a9c8ce-ded6-4d75-9204-23f74d9ace53"
      },
      "source": [
        "# Display the schema\n",
        "\n",
        "new_df.printSchema()"
      ],
      "execution_count": 46,
      "outputs": [
        {
          "output_type": "stream",
          "name": "stdout",
          "text": [
            "root\n",
            " |-- Pregnancies: integer (nullable = true)\n",
            " |-- Glucose: integer (nullable = true)\n",
            " |-- BloodPressure: integer (nullable = true)\n",
            " |-- SkinThickness: integer (nullable = true)\n",
            " |-- Insulin: integer (nullable = true)\n",
            " |-- BMI: double (nullable = true)\n",
            " |-- DiabetesPedigreeFunction: double (nullable = true)\n",
            " |-- Age: integer (nullable = true)\n",
            "\n"
          ]
        }
      ]
    },
    {
      "cell_type": "code",
      "metadata": {
        "id": "qpwiydMYB8Y_"
      },
      "source": [
        "# As we have similar features but we don't have the outcome column\n",
        "# Create an additional feature merged column\n",
        "\n",
        "test_data = assembler.transform(new_df)"
      ],
      "execution_count": 47,
      "outputs": []
    },
    {
      "cell_type": "code",
      "metadata": {
        "colab": {
          "base_uri": "https://localhost:8080/"
        },
        "id": "eHZ3x--OCU0C",
        "outputId": "152c7f0c-6568-42cc-a825-5496a86180ec"
      },
      "source": [
        "#Print the Schema\n",
        "\n",
        "test_data.printSchema()   #now we have an additional feature column"
      ],
      "execution_count": 48,
      "outputs": [
        {
          "output_type": "stream",
          "name": "stdout",
          "text": [
            "root\n",
            " |-- Pregnancies: integer (nullable = true)\n",
            " |-- Glucose: integer (nullable = true)\n",
            " |-- BloodPressure: integer (nullable = true)\n",
            " |-- SkinThickness: integer (nullable = true)\n",
            " |-- Insulin: integer (nullable = true)\n",
            " |-- BMI: double (nullable = true)\n",
            " |-- DiabetesPedigreeFunction: double (nullable = true)\n",
            " |-- Age: integer (nullable = true)\n",
            " |-- features: vector (nullable = true)\n",
            "\n"
          ]
        }
      ]
    },
    {
      "cell_type": "code",
      "metadata": {
        "colab": {
          "base_uri": "https://localhost:8080/"
        },
        "id": "fbBuDh73CaZ9",
        "outputId": "1d39261a-8169-4395-b53a-8754afe09398"
      },
      "source": [
        "# use the model to make predictions\n",
        "\n",
        "results = model.transform(test_data)\n",
        "results.printSchema()"
      ],
      "execution_count": 49,
      "outputs": [
        {
          "output_type": "stream",
          "name": "stdout",
          "text": [
            "root\n",
            " |-- Pregnancies: integer (nullable = true)\n",
            " |-- Glucose: integer (nullable = true)\n",
            " |-- BloodPressure: integer (nullable = true)\n",
            " |-- SkinThickness: integer (nullable = true)\n",
            " |-- Insulin: integer (nullable = true)\n",
            " |-- BMI: double (nullable = true)\n",
            " |-- DiabetesPedigreeFunction: double (nullable = true)\n",
            " |-- Age: integer (nullable = true)\n",
            " |-- features: vector (nullable = true)\n",
            " |-- rawPrediction: vector (nullable = true)\n",
            " |-- probability: vector (nullable = true)\n",
            " |-- prediction: double (nullable = false)\n",
            "\n"
          ]
        }
      ]
    },
    {
      "cell_type": "code",
      "metadata": {
        "colab": {
          "base_uri": "https://localhost:8080/"
        },
        "id": "ZmpYiBAACuPn",
        "outputId": "cf3337e7-3fec-49cc-b91c-03ae8b31778e"
      },
      "source": [
        "# Display the predictions\n",
        "\n",
        "results.select('features','prediction').show()"
      ],
      "execution_count": 50,
      "outputs": [
        {
          "output_type": "stream",
          "name": "stdout",
          "text": [
            "+--------------------+----------+\n",
            "|            features|prediction|\n",
            "+--------------------+----------+\n",
            "|[1.0,190.0,78.0,3...|       1.0|\n",
            "|[0.0,80.0,84.0,36...|       0.0|\n",
            "|[2.0,138.0,82.0,4...|       1.0|\n",
            "|[1.0,110.0,63.0,4...|       1.0|\n",
            "+--------------------+----------+\n",
            "\n"
          ]
        }
      ]
    },
    {
      "cell_type": "code",
      "metadata": {
        "id": "_hjISH7HC76p"
      },
      "source": [
        "# Show our model is able to make predictions on unlabeled data"
      ],
      "execution_count": 51,
      "outputs": []
    },
    {
      "cell_type": "code",
      "metadata": {
        "id": "9n8msOBpDIKz"
      },
      "source": [
        ""
      ],
      "execution_count": null,
      "outputs": []
    }
  ]
}